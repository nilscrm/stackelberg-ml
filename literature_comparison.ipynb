{
 "cells": [
  {
   "cell_type": "markdown",
   "metadata": {},
   "source": [
    "# Comparison with Algorithms from Literature"
   ]
  },
  {
   "cell_type": "code",
   "execution_count": 1,
   "metadata": {},
   "outputs": [],
   "source": [
    "from typing import List\n",
    "\n",
    "from math import ceil\n",
    "import gymnasium\n",
    "import numpy as np\n",
    "import torch\n",
    "\n",
    "import stackelberg_mbrl.envs.simple_mdp\n",
    "from stackelberg_mbrl.envs.querying_env import CountedEnvWrapper\n",
    "from stable_baselines3.common.evaluation import evaluate_policy\n",
    "import matplotlib.pyplot as plt\n",
    "from scipy.stats import sem\n",
    "from scipy.ndimage import gaussian_filter1d\n",
    "from scipy.interpolate import interp1d\n",
    "\n",
    "from stable_baselines3.ppo import PPO\n",
    "from stable_baselines3.common.callbacks import BaseCallback"
   ]
  },
  {
   "cell_type": "code",
   "execution_count": 2,
   "metadata": {},
   "outputs": [],
   "source": [
    "class Policy:\n",
    "    \"\"\" Policy that operates on discrete state-/action-spaces \"\"\"\n",
    "    def __init__(self, action_probabilities: np.ndarray):\n",
    "        self.action_probabilities = action_probabilities\n",
    "    \n",
    "    def predict(self, observations, **kwargs):\n",
    "        state = observations.item()\n",
    "\n",
    "        action_probs = self.action_probabilities[state]\n",
    "        return torch.multinomial(torch.tensor(action_probs), num_samples=1).numpy(), observations\n",
    "        "
   ]
  },
  {
   "cell_type": "code",
   "execution_count": 3,
   "metadata": {},
   "outputs": [],
   "source": [
    "TRAINING_REPS = 10 # how often to train and observe sample efficiency\n",
    "SAMPLE_EVAL_RATE = 10 # how many samples inbetween two evaluations?\n",
    "N_EVAL_EPISODES = 10\n",
    "MAX_SAMPLES = 750 # what is the approximate maximum nr of samples that can be taken"
   ]
  },
  {
   "cell_type": "code",
   "execution_count": 4,
   "metadata": {},
   "outputs": [],
   "source": [
    "def extend_array(arr, new_length):\n",
    "    if len(arr) < new_length:\n",
    "        last_element = arr[-1]\n",
    "        extra_elements = [last_element] * (new_length - len(arr))\n",
    "        extended_arr = np.concatenate((arr, extra_elements))\n",
    "    else:\n",
    "        extended_arr = arr\n",
    "    return extended_arr\n",
    "\n",
    "def stack_arrays_with_padding(arrays):\n",
    "    max_length = max(len(arr) for arr in arrays)\n",
    "    extended_arrays = [extend_array(arr, max_length) for arr in arrays]\n",
    "    stacked_array = np.stack(extended_arrays, axis=0)\n",
    "    return stacked_array\n",
    "\n",
    "def interpolate(x, y, at):\n",
    "    return interp1d(x, y, kind=\"linear\", fill_value=(np.min(y), np.max(y)), bounds_error=False)(at)"
   ]
  },
  {
   "cell_type": "code",
   "execution_count": 5,
   "metadata": {},
   "outputs": [],
   "source": [
    "def plot(all_evals: List, label: str, smooth_factor=2, color=\"b\"):\n",
    "    intervals = np.arange(0, MAX_SAMPLES, SAMPLE_EVAL_RATE)\n",
    "    all_evals = np.stack([interpolate(np.array(evals)[:,0],np.array(evals)[:,1],intervals) for evals in all_evals])\n",
    "    mean_reward = all_evals.mean(axis=0)\n",
    "    sem_reward = sem(all_evals, axis=0)\n",
    "    ci_95 = 1.96 * sem_reward\n",
    "\n",
    "    mean_reward_smooth = gaussian_filter1d(mean_reward, smooth_factor)\n",
    "    ci_95_smooth = gaussian_filter1d(ci_95, smooth_factor)\n",
    "\n",
    "    plt.plot(intervals, mean_reward_smooth, label=label, color=color)\n",
    "    plt.fill_between(intervals, mean_reward_smooth - ci_95_smooth, mean_reward_smooth + ci_95_smooth, color=color, alpha=0.2)"
   ]
  },
  {
   "cell_type": "markdown",
   "metadata": {},
   "source": [
    "## Dyna-Q"
   ]
  },
  {
   "cell_type": "code",
   "execution_count": 6,
   "metadata": {},
   "outputs": [],
   "source": [
    "n = 10"
   ]
  },
  {
   "cell_type": "code",
   "execution_count": 7,
   "metadata": {},
   "outputs": [],
   "source": [
    "class NonDetModel:\n",
    "    def __init__(self, n_state, n_action, rewards):\n",
    "        self.Tc: np.ndarray = np.full((n_state, n_action, n_state), 0.0001)\n",
    "        self.rewards = rewards\n",
    "        self.encountered_state_action_pairs = set([])\n",
    "        self.encountered_states = set([])\n",
    "\n",
    "    def experience(self, s, a, s_next):\n",
    "        self.Tc[s,a,s_next] += 1\n",
    "        self.encountered_state_action_pairs.add((s, a))\n",
    "        self.encountered_states.add(s)\n",
    "    \n",
    "    def next_state_distribution(self, s, a):\n",
    "        return self.Tc[s,a,:] / self.Tc[s,a].sum()\n",
    "    \n",
    "    def sample_next_state(self, s, a):\n",
    "        s_next = torch.multinomial(torch.tensor(self.next_state_distribution(s, a)), num_samples=1).item()\n",
    "        return s_next, self.rewards[s,a,s_next]"
   ]
  },
  {
   "cell_type": "code",
   "execution_count": 8,
   "metadata": {},
   "outputs": [],
   "source": [
    "# Adapted from: https://github.com/vojtamolda/reinforcement-learning-an-introduction/blob/main/chapter08/dyna.py\n",
    "def dyna_q(env, n, max_samples, eps=0.1, alpha=0.5, gamma=0.95):\n",
    "    \"\"\" Tabular Dyna-Q algorithm per Chapter 8.2 \"\"\"\n",
    "    assert type(env.action_space) == gymnasium.spaces.Discrete\n",
    "    assert type(env.observation_space) == gymnasium.spaces.Discrete\n",
    "    history = [0]\n",
    "\n",
    "    # Number of available actions and maximal state ravel index\n",
    "    n_state, n_action = env.observation_space.n, env.action_space.n\n",
    "\n",
    "    # Initialization of action value function\n",
    "    q = np.zeros([n_state, n_action], dtype=float)\n",
    "\n",
    "    # Initialize policy to equal-probable random\n",
    "    policy = np.ones([n_state, n_action], dtype=float) / n_action\n",
    "    assert np.allclose(np.sum(policy, axis=1), 1)\n",
    "\n",
    "    # Evaluation\n",
    "    next_eval = 0\n",
    "    evals = []\n",
    "\n",
    "    # Model of a deterministic environment\n",
    "    model = NonDetModel(n_state, n_action, env.rewards)\n",
    "\n",
    "    while env.samples < max_samples:\n",
    "        state,_ = env.reset()\n",
    "\n",
    "        done = False\n",
    "        truncated = False\n",
    "        while not done and not truncated:\n",
    "            # Sample action according to the current policy and step the environment forward\n",
    "            action = np.random.choice(n_action, p=policy[state])\n",
    "            next, reward, done, truncated, info = env.step(action)\n",
    "            history += [reward]\n",
    "\n",
    "            # Update q value with a q-learning update and reset visit counter\n",
    "            q[state, action] += alpha * (reward + gamma * np.max(q[next]) - q[state, action])\n",
    "            model.experience(state, action, next)\n",
    "\n",
    "            # Planning with previously visited state-action pairs\n",
    "            transitions = list(model.encountered_state_action_pairs)\n",
    "            for i in range(n):\n",
    "                p_state, p_action = transitions[np.random.choice(len(transitions))]\n",
    "                p_next, p_reward = model.sample_next_state(p_state, p_action)\n",
    "                q[p_state, p_action] += alpha * (p_reward + gamma * np.max(q[p_next]) - q[p_state, p_action])\n",
    "\n",
    "            # Extract eps-greedy policy from the updated q values\n",
    "            policy[state, :] = eps / n_action\n",
    "            policy[state, np.argmax(q[state])] = 1 - eps + eps / n_action\n",
    "            assert np.allclose(np.sum(policy, axis=1), 1)\n",
    "\n",
    "            # Prepare the next q update and increase visit counter for all states\n",
    "            state = next\n",
    "\n",
    "        if env.samples >= next_eval:\n",
    "            r_mean,r_std = evaluate_policy(Policy(policy), env.env, n_eval_episodes=N_EVAL_EPISODES)\n",
    "            evals.append((env.samples, r_mean))\n",
    "            next_eval = env.samples + SAMPLE_EVAL_RATE\n",
    "            \n",
    "    return q, policy, history, evals\n",
    "\n",
    "def dyna_q_plus(env, n, max_samples, eps=0.1, alpha=0.5, gamma=0.95, kappa=1e-4, action_only=False):\n",
    "    \"\"\" Tabular Dyna-Q+ algorithm per Chapter 8.3 (action_only=False) or Exercise 8.4 (action_only=True). \"\"\"\n",
    "    assert type(env.action_space) == gymnasium.spaces.Discrete\n",
    "    assert type(env.observation_space) == gymnasium.spaces.Discrete\n",
    "    history = [0]\n",
    "\n",
    "    # Number of available actions and maximal state ravel index\n",
    "    n_state, n_action = env.observation_space.n, env.action_space.n\n",
    "\n",
    "    # Initialization of action value function and visit counter\n",
    "    q = np.zeros([n_state, n_action], dtype=float)\n",
    "    tau = np.zeros([n_state, n_action], dtype=np.int64)\n",
    "\n",
    "    # Initialize policy to equal-probable random\n",
    "    policy = np.ones([n_state, n_action], dtype=float) / n_action\n",
    "    assert np.allclose(np.sum(policy, axis=1), 1)\n",
    "\n",
    "    # Evaluation\n",
    "    next_eval = 0\n",
    "    evals = []\n",
    "\n",
    "    # Model of a deterministic environment\n",
    "    model = NonDetModel(n_state, n_action, env.rewards)\n",
    "\n",
    "    while env.samples < max_samples:\n",
    "        state,_ = env.reset()\n",
    "\n",
    "        done = False\n",
    "        truncated = False\n",
    "        while not done and not truncated:\n",
    "            # Sample action according to the current policy and step the environment forward\n",
    "            action = np.random.choice(n_action, p=policy[state])\n",
    "            next, reward, done, truncated, info = env.step(action)\n",
    "            history += [reward]\n",
    "\n",
    "            # Update q value with a q-learning update and reset visit counter\n",
    "            q[state, action] += alpha * (reward + gamma * np.max(q[next]) - q[state, action])\n",
    "            model.experience(state, action, next) \n",
    "            tau[state, action] = 0\n",
    "\n",
    "            # Planning that allows taking unvisited actions from visited states\n",
    "            states = list(model.encountered_states)\n",
    "            for i in range(n):\n",
    "                p_state = states[np.random.choice(len(states))]\n",
    "                p_action = np.random.choice(n_action)\n",
    "                p_next, p_reward = model.sample_next_state(p_state, p_action)\n",
    "                bonus = 0 if action_only else kappa * np.sqrt(tau[p_state, p_action])\n",
    "                q[p_state, p_action] += alpha * (p_reward + bonus + gamma * np.max(q[p_next]) - q[p_state, p_action])\n",
    "\n",
    "            # Extract eps-greedy policy from the updated q values and exploration bonus\n",
    "            bonus = kappa * np.sqrt(tau[state]) if action_only else 0\n",
    "            policy[state, :] = eps / n_action\n",
    "            policy[state, np.argmax(q[state] + bonus)] = 1 - eps + eps / n_action\n",
    "            assert np.allclose(np.sum(policy, axis=1), 1)\n",
    "\n",
    "            # Prepare the next q update and increase visit counter for all states\n",
    "            state = next\n",
    "            tau += 1\n",
    "\n",
    "            if env.samples >= next_eval:\n",
    "                r_mean,r_std = evaluate_policy(Policy(policy), env.env, n_eval_episodes=N_EVAL_EPISODES)\n",
    "                evals.append((env.samples, r_mean))\n",
    "                next_eval = env.samples + SAMPLE_EVAL_RATE\n",
    "\n",
    "    return q, policy, history, evals"
   ]
  },
  {
   "cell_type": "code",
   "execution_count": 9,
   "metadata": {},
   "outputs": [
    {
     "name": "stderr",
     "output_type": "stream",
     "text": [
      "/home/yanick/miniforge3/envs/stackelberg/lib/python3.10/site-packages/gymnasium/core.py:311: UserWarning: \u001b[33mWARN: env.rewards to get variables from other wrappers is deprecated and will be removed in v1.0, to get this variable you can do `env.unwrapped.rewards` for environment variables or `env.get_wrapper_attr('rewards')` that will search the reminding wrappers.\u001b[0m\n",
      "  logger.warn(\n",
      "/home/yanick/miniforge3/envs/stackelberg/lib/python3.10/site-packages/gymnasium/utils/passive_env_checker.py:181: DeprecationWarning: \u001b[33mWARN: Current gymnasium version requires that `Env.reset` can be passed `options` to allow the environment initialisation to be passed additional information.\u001b[0m\n",
      "  logger.deprecation(\n",
      "/home/yanick/miniforge3/envs/stackelberg/lib/python3.10/site-packages/stable_baselines3/common/evaluation.py:67: UserWarning: Evaluation environment is not wrapped with a ``Monitor`` wrapper. This may result in reporting modified episode lengths and rewards, if other wrappers happen to modify these. Consider wrapping environment first with ``Monitor`` wrapper.\n",
      "  warnings.warn(\n"
     ]
    }
   ],
   "source": [
    "all_evals_dynq = []\n",
    "for i in range(TRAINING_REPS):\n",
    "    env = CountedEnvWrapper(gymnasium.make(\"simple_mdp_2\", max_ep_steps=50))\n",
    "    q, policy, history, evals = dyna_q(env, n, MAX_SAMPLES)\n",
    "    all_evals_dynq.append(evals)"
   ]
  },
  {
   "cell_type": "code",
   "execution_count": 10,
   "metadata": {},
   "outputs": [],
   "source": [
    "all_evals_dynq_plus = []\n",
    "for i in range(TRAINING_REPS):\n",
    "    env = CountedEnvWrapper(gymnasium.make(\"simple_mdp_2\", max_ep_steps=50))\n",
    "    q, policy, history, evals = dyna_q_plus(env, n, MAX_SAMPLES)\n",
    "    all_evals_dynq_plus.append(evals)"
   ]
  },
  {
   "cell_type": "markdown",
   "metadata": {},
   "source": [
    "## PPO"
   ]
  },
  {
   "cell_type": "code",
   "execution_count": 11,
   "metadata": {},
   "outputs": [],
   "source": [
    "# See https://stable-baselines3.readthedocs.io/en/master/guide/callbacks.html\n",
    "class PPOCallback(BaseCallback):\n",
    "    def __init__(self, eval_env, max_samples):\n",
    "        super().__init__(verbose=0)\n",
    "        self.eval_env = eval_env\n",
    "        self.max_samples = max_samples\n",
    "\n",
    "        self.next_eval = 0\n",
    "        self.evals = []\n",
    "\n",
    "    def _on_training_start(self) -> None:\n",
    "        pass\n",
    "\n",
    "    def _on_rollout_start(self) -> None:\n",
    "        pass\n",
    "\n",
    "    def _on_step(self) -> bool:\n",
    "        return self.num_timesteps < self.max_samples\n",
    "\n",
    "    def _on_rollout_end(self) -> None:\n",
    "        if self.num_timesteps >= self.next_eval:\n",
    "            r_mean,r_std = evaluate_policy(self.model.policy, self.eval_env, n_eval_episodes=N_EVAL_EPISODES)\n",
    "            self.evals.append((self.num_timesteps, r_mean))\n",
    "            self.next_eval = self.num_timesteps + SAMPLE_EVAL_RATE\n",
    "\n",
    "    def _on_training_end(self) -> None:\n",
    "        pass"
   ]
  },
  {
   "cell_type": "code",
   "execution_count": 12,
   "metadata": {},
   "outputs": [],
   "source": [
    "policy_kwargs = dict(activation_fn=torch.nn.ReLU,\n",
    "                     net_arch=dict(pi=[16, 16], vf=[16, 16]))"
   ]
  },
  {
   "cell_type": "code",
   "execution_count": 13,
   "metadata": {},
   "outputs": [
    {
     "name": "stderr",
     "output_type": "stream",
     "text": [
      "/home/yanick/miniforge3/envs/stackelberg/lib/python3.10/site-packages/stable_baselines3/ppo/ppo.py:155: UserWarning: You have specified a mini-batch size of 64, but because the `RolloutBuffer` is of size `n_steps * n_envs = 10`, after every 0 untruncated mini-batches, there will be a truncated mini-batch of size 10\n",
      "We recommend using a `batch_size` that is a factor of `n_steps * n_envs`.\n",
      "Info: (n_steps=10 and n_envs=1)\n",
      "  warnings.warn(\n",
      "/home/yanick/miniforge3/envs/stackelberg/lib/python3.10/site-packages/gymnasium/utils/passive_env_checker.py:181: DeprecationWarning: \u001b[33mWARN: Current gymnasium version requires that `Env.reset` can be passed `options` to allow the environment initialisation to be passed additional information.\u001b[0m\n",
      "  logger.deprecation(\n",
      "/home/yanick/miniforge3/envs/stackelberg/lib/python3.10/site-packages/stable_baselines3/common/evaluation.py:67: UserWarning: Evaluation environment is not wrapped with a ``Monitor`` wrapper. This may result in reporting modified episode lengths and rewards, if other wrappers happen to modify these. Consider wrapping environment first with ``Monitor`` wrapper.\n",
      "  warnings.warn(\n",
      "/home/yanick/miniforge3/envs/stackelberg/lib/python3.10/site-packages/stable_baselines3/ppo/ppo.py:155: UserWarning: You have specified a mini-batch size of 64, but because the `RolloutBuffer` is of size `n_steps * n_envs = 10`, after every 0 untruncated mini-batches, there will be a truncated mini-batch of size 10\n",
      "We recommend using a `batch_size` that is a factor of `n_steps * n_envs`.\n",
      "Info: (n_steps=10 and n_envs=1)\n",
      "  warnings.warn(\n"
     ]
    }
   ],
   "source": [
    "all_evals_ppo = []\n",
    "for i in range(TRAINING_REPS):\n",
    "    env = gymnasium.make(\"simple_mdp_2\", max_ep_steps=50)\n",
    "    \n",
    "    model_ppo = PPO(\n",
    "        \"MlpPolicy\",\n",
    "        env,\n",
    "        policy_kwargs=policy_kwargs,\n",
    "        gamma=1.0,\n",
    "        n_steps=SAMPLE_EVAL_RATE\n",
    "    )\n",
    "\n",
    "    callback = PPOCallback(env, MAX_SAMPLES)\n",
    "    model_ppo.learn(total_timesteps=MAX_SAMPLES, callback=callback)\n",
    "    all_evals_ppo.append(callback.evals)"
   ]
  },
  {
   "cell_type": "markdown",
   "metadata": {},
   "source": [
    "## Visualization"
   ]
  },
  {
   "cell_type": "code",
   "execution_count": 14,
   "metadata": {},
   "outputs": [
    {
     "data": {
      "text/plain": [
       "<matplotlib.legend.Legend at 0x7e7f198cb5b0>"
      ]
     },
     "execution_count": 14,
     "metadata": {},
     "output_type": "execute_result"
    },
    {
     "data": {
      "image/png": "[encoded data removed]",
      "text/plain": [
       "<Figure size 640x480 with 1 Axes>"
      ]
     },
     "metadata": {},
     "output_type": "display_data"
    }
   ],
   "source": [
    "smooth_factor = 5.0\n",
    "plot(all_evals_dynq, \"Dyna-Q\", color=\"b\", smooth_factor=smooth_factor)\n",
    "plot(all_evals_dynq_plus, \"Dyna-Q+\", color=\"r\", smooth_factor=smooth_factor)\n",
    "plot(all_evals_ppo, \"PPO\", color=\"g\")\n",
    "plt.title(\"Sample Efficiency\")\n",
    "plt.ylabel(\"Episode Reward (max 50 Steps)\")\n",
    "plt.xlabel(\"Samples\")\n",
    "plt.legend()"
   ]
  },
  {
   "cell_type": "code",
   "execution_count": null,
   "metadata": {},
   "outputs": [],
   "source": []
  },
  {
   "cell_type": "code",
   "execution_count": null,
   "metadata": {},
   "outputs": [],
   "source": []
  },
  {
   "cell_type": "code",
   "execution_count": null,
   "metadata": {},
   "outputs": [],
   "source": []
  },
  {
   "cell_type": "code",
   "execution_count": null,
   "metadata": {},
   "outputs": [],
   "source": []
  },
  {
   "cell_type": "code",
   "execution_count": 15,
   "metadata": {},
   "outputs": [
    {
     "data": {
      "text/plain": [
       "array([[  2.   ,   3.585],\n",
       "       [ 12.   ,  26.29 ],\n",
       "       [ 23.   ,  17.08 ],\n",
       "       [ 33.   ,  17.385],\n",
       "       [ 43.   ,  26.26 ],\n",
       "       [ 53.   ,  27.875],\n",
       "       [ 63.   ,  19.625],\n",
       "       [ 73.   ,  26.02 ],\n",
       "       [ 83.   ,  18.035],\n",
       "       [ 93.   ,  19.62 ],\n",
       "       [103.   ,  25.515],\n",
       "       [113.   ,  16.69 ],\n",
       "       [123.   ,  25.03 ],\n",
       "       [133.   ,  23.49 ],\n",
       "       [143.   ,  23.925],\n",
       "       [153.   ,  25.74 ],\n",
       "       [163.   ,  26.34 ],\n",
       "       [173.   ,  23.23 ],\n",
       "       [183.   ,  26.18 ],\n",
       "       [193.   ,  24.415],\n",
       "       [203.   ,  24.085],\n",
       "       [213.   ,  25.   ],\n",
       "       [223.   ,  24.215],\n",
       "       [233.   ,  22.675],\n",
       "       [243.   ,  20.43 ],\n",
       "       [253.   ,  23.335],\n",
       "       [263.   ,  26.36 ],\n",
       "       [273.   ,  20.155],\n",
       "       [283.   ,  21.87 ],\n",
       "       [293.   ,  17.965],\n",
       "       [303.   ,  21.105],\n",
       "       [313.   ,  24.145],\n",
       "       [323.   ,  26.995],\n",
       "       [333.   ,  26.55 ],\n",
       "       [343.   ,  19.095],\n",
       "       [353.   ,  18.225],\n",
       "       [363.   ,  19.58 ],\n",
       "       [373.   ,  24.43 ],\n",
       "       [383.   ,  22.975],\n",
       "       [393.   ,  24.71 ],\n",
       "       [404.   ,  19.905],\n",
       "       [414.   ,  14.525],\n",
       "       [424.   ,  18.04 ],\n",
       "       [434.   ,  23.   ],\n",
       "       [444.   ,  24.46 ],\n",
       "       [454.   ,  24.86 ],\n",
       "       [464.   ,  22.8  ],\n",
       "       [474.   ,  20.525],\n",
       "       [484.   ,  28.57 ],\n",
       "       [494.   ,  24.25 ],\n",
       "       [504.   ,  20.87 ],\n",
       "       [514.   ,  20.965],\n",
       "       [524.   ,  13.825],\n",
       "       [534.   ,  25.13 ],\n",
       "       [544.   ,  17.21 ],\n",
       "       [554.   ,  26.29 ],\n",
       "       [564.   ,  21.545],\n",
       "       [574.   ,  21.345],\n",
       "       [584.   ,  24.025],\n",
       "       [594.   ,  17.285],\n",
       "       [604.   ,  21.9  ],\n",
       "       [614.   ,  26.915],\n",
       "       [624.   ,  14.595],\n",
       "       [634.   ,  21.29 ],\n",
       "       [644.   ,  18.74 ],\n",
       "       [654.   ,  21.96 ],\n",
       "       [664.   ,  21.53 ],\n",
       "       [674.   ,  24.53 ],\n",
       "       [684.   ,  18.875],\n",
       "       [694.   ,  28.33 ],\n",
       "       [704.   ,  17.735],\n",
       "       [714.   ,  17.82 ],\n",
       "       [724.   ,  20.51 ],\n",
       "       [734.   ,  19.49 ],\n",
       "       [744.   ,  26.425],\n",
       "       [754.   ,  27.99 ]])"
      ]
     },
     "execution_count": 15,
     "metadata": {},
     "output_type": "execute_result"
    }
   ],
   "source": [
    "np.array(evals)"
   ]
  },
  {
   "cell_type": "code",
   "execution_count": null,
   "metadata": {},
   "outputs": [],
   "source": []
  },
  {
   "cell_type": "code",
   "execution_count": 16,
   "metadata": {},
   "outputs": [
    {
     "data": {
      "text/plain": [
       "array([[0.05, 0.95],\n",
       "       [0.05, 0.95],\n",
       "       [0.5 , 0.5 ]])"
      ]
     },
     "execution_count": 16,
     "metadata": {},
     "output_type": "execute_result"
    }
   ],
   "source": [
    "policy"
   ]
  },
  {
   "cell_type": "code",
   "execution_count": 17,
   "metadata": {},
   "outputs": [
    {
     "name": "stderr",
     "output_type": "stream",
     "text": [
      "/home/yanick/miniforge3/envs/stackelberg/lib/python3.10/site-packages/gymnasium/core.py:311: UserWarning: \u001b[33mWARN: env.samples to get variables from other wrappers is deprecated and will be removed in v1.0, to get this variable you can do `env.unwrapped.samples` for environment variables or `env.get_wrapper_attr('samples')` that will search the reminding wrappers.\u001b[0m\n",
      "  logger.warn(\n"
     ]
    },
    {
     "ename": "AttributeError",
     "evalue": "'MatrixMDP' object has no attribute 'samples'",
     "output_type": "error",
     "traceback": [
      "\u001b[0;31m---------------------------------------------------------------------------\u001b[0m",
      "\u001b[0;31mAttributeError\u001b[0m                            Traceback (most recent call last)",
      "Cell \u001b[0;32mIn[17], line 1\u001b[0m\n\u001b[0;32m----> 1\u001b[0m \u001b[43menv\u001b[49m\u001b[38;5;241;43m.\u001b[39;49m\u001b[43msamples\u001b[49m\n",
      "File \u001b[0;32m~/miniforge3/envs/stackelberg/lib/python3.10/site-packages/gymnasium/core.py:315\u001b[0m, in \u001b[0;36mWrapper.__getattr__\u001b[0;34m(self, name)\u001b[0m\n\u001b[1;32m    310\u001b[0m     \u001b[38;5;28;01mraise\u001b[39;00m \u001b[38;5;167;01mAttributeError\u001b[39;00m(\u001b[38;5;124mf\u001b[39m\u001b[38;5;124m\"\u001b[39m\u001b[38;5;124maccessing private attribute \u001b[39m\u001b[38;5;124m'\u001b[39m\u001b[38;5;132;01m{\u001b[39;00mname\u001b[38;5;132;01m}\u001b[39;00m\u001b[38;5;124m'\u001b[39m\u001b[38;5;124m is prohibited\u001b[39m\u001b[38;5;124m\"\u001b[39m)\n\u001b[1;32m    311\u001b[0m logger\u001b[38;5;241m.\u001b[39mwarn(\n\u001b[1;32m    312\u001b[0m     \u001b[38;5;124mf\u001b[39m\u001b[38;5;124m\"\u001b[39m\u001b[38;5;124menv.\u001b[39m\u001b[38;5;132;01m{\u001b[39;00mname\u001b[38;5;132;01m}\u001b[39;00m\u001b[38;5;124m to get variables from other wrappers is deprecated and will be removed in v1.0, \u001b[39m\u001b[38;5;124m\"\u001b[39m\n\u001b[1;32m    313\u001b[0m     \u001b[38;5;124mf\u001b[39m\u001b[38;5;124m\"\u001b[39m\u001b[38;5;124mto get this variable you can do `env.unwrapped.\u001b[39m\u001b[38;5;132;01m{\u001b[39;00mname\u001b[38;5;132;01m}\u001b[39;00m\u001b[38;5;124m` for environment variables or `env.get_wrapper_attr(\u001b[39m\u001b[38;5;124m'\u001b[39m\u001b[38;5;132;01m{\u001b[39;00mname\u001b[38;5;132;01m}\u001b[39;00m\u001b[38;5;124m'\u001b[39m\u001b[38;5;124m)` that will search the reminding wrappers.\u001b[39m\u001b[38;5;124m\"\u001b[39m\n\u001b[1;32m    314\u001b[0m )\n\u001b[0;32m--> 315\u001b[0m \u001b[38;5;28;01mreturn\u001b[39;00m \u001b[38;5;28;43mgetattr\u001b[39;49m\u001b[43m(\u001b[49m\u001b[38;5;28;43mself\u001b[39;49m\u001b[38;5;241;43m.\u001b[39;49m\u001b[43menv\u001b[49m\u001b[43m,\u001b[49m\u001b[43m \u001b[49m\u001b[43mname\u001b[49m\u001b[43m)\u001b[49m\n",
      "File \u001b[0;32m~/miniforge3/envs/stackelberg/lib/python3.10/site-packages/gymnasium/core.py:315\u001b[0m, in \u001b[0;36mWrapper.__getattr__\u001b[0;34m(self, name)\u001b[0m\n\u001b[1;32m    310\u001b[0m     \u001b[38;5;28;01mraise\u001b[39;00m \u001b[38;5;167;01mAttributeError\u001b[39;00m(\u001b[38;5;124mf\u001b[39m\u001b[38;5;124m\"\u001b[39m\u001b[38;5;124maccessing private attribute \u001b[39m\u001b[38;5;124m'\u001b[39m\u001b[38;5;132;01m{\u001b[39;00mname\u001b[38;5;132;01m}\u001b[39;00m\u001b[38;5;124m'\u001b[39m\u001b[38;5;124m is prohibited\u001b[39m\u001b[38;5;124m\"\u001b[39m)\n\u001b[1;32m    311\u001b[0m logger\u001b[38;5;241m.\u001b[39mwarn(\n\u001b[1;32m    312\u001b[0m     \u001b[38;5;124mf\u001b[39m\u001b[38;5;124m\"\u001b[39m\u001b[38;5;124menv.\u001b[39m\u001b[38;5;132;01m{\u001b[39;00mname\u001b[38;5;132;01m}\u001b[39;00m\u001b[38;5;124m to get variables from other wrappers is deprecated and will be removed in v1.0, \u001b[39m\u001b[38;5;124m\"\u001b[39m\n\u001b[1;32m    313\u001b[0m     \u001b[38;5;124mf\u001b[39m\u001b[38;5;124m\"\u001b[39m\u001b[38;5;124mto get this variable you can do `env.unwrapped.\u001b[39m\u001b[38;5;132;01m{\u001b[39;00mname\u001b[38;5;132;01m}\u001b[39;00m\u001b[38;5;124m` for environment variables or `env.get_wrapper_attr(\u001b[39m\u001b[38;5;124m'\u001b[39m\u001b[38;5;132;01m{\u001b[39;00mname\u001b[38;5;132;01m}\u001b[39;00m\u001b[38;5;124m'\u001b[39m\u001b[38;5;124m)` that will search the reminding wrappers.\u001b[39m\u001b[38;5;124m\"\u001b[39m\n\u001b[1;32m    314\u001b[0m )\n\u001b[0;32m--> 315\u001b[0m \u001b[38;5;28;01mreturn\u001b[39;00m \u001b[38;5;28;43mgetattr\u001b[39;49m\u001b[43m(\u001b[49m\u001b[38;5;28;43mself\u001b[39;49m\u001b[38;5;241;43m.\u001b[39;49m\u001b[43menv\u001b[49m\u001b[43m,\u001b[49m\u001b[43m \u001b[49m\u001b[43mname\u001b[49m\u001b[43m)\u001b[49m\n",
      "\u001b[0;31mAttributeError\u001b[0m: 'MatrixMDP' object has no attribute 'samples'"
     ]
    }
   ],
   "source": [
    "env.samples"
   ]
  },
  {
   "cell_type": "code",
   "execution_count": null,
   "metadata": {},
   "outputs": [],
   "source": [
    "# policy = np.array([\n",
    "#     [0, 1],\n",
    "#     [0, 1],\n",
    "#     [0, 1]\n",
    "# ], dtype=float)"
   ]
  },
  {
   "cell_type": "code",
   "execution_count": null,
   "metadata": {},
   "outputs": [
    {
     "name": "stderr",
     "output_type": "stream",
     "text": [
      "/home/yanick/miniforge3/envs/stackelberg/lib/python3.10/site-packages/stable_baselines3/common/evaluation.py:67: UserWarning: Evaluation environment is not wrapped with a ``Monitor`` wrapper. This may result in reporting modified episode lengths and rewards, if other wrappers happen to modify these. Consider wrapping environment first with ``Monitor`` wrapper.\n",
      "  warnings.warn(\n"
     ]
    },
    {
     "data": {
      "text/plain": [
       "(22.474999997988345, 12.70417352623689)"
      ]
     },
     "execution_count": 83,
     "metadata": {},
     "output_type": "execute_result"
    }
   ],
   "source": [
    "evaluate_policy(RandomPolicy(policy), env, n_eval_episodes=100)"
   ]
  },
  {
   "cell_type": "code",
   "execution_count": null,
   "metadata": {},
   "outputs": [],
   "source": [
    "eps=0.1\n",
    "alpha=0.5\n",
    "gamma=0.95\n",
    "kappa=1e-4\n",
    "action_only=False"
   ]
  },
  {
   "cell_type": "code",
   "execution_count": null,
   "metadata": {},
   "outputs": [],
   "source": [
    "env = gymnasium.make(\"simple_mdp_2\", max_ep_steps=50)\n",
    "n = 30\n",
    "num_episodes = 1_000"
   ]
  },
  {
   "cell_type": "code",
   "execution_count": null,
   "metadata": {},
   "outputs": [
    {
     "name": "stderr",
     "output_type": "stream",
     "text": [
      "/home/yanick/miniforge3/envs/stackelberg/lib/python3.10/site-packages/gymnasium/core.py:311: UserWarning: \u001b[33mWARN: env.rewards to get variables from other wrappers is deprecated and will be removed in v1.0, to get this variable you can do `env.unwrapped.rewards` for environment variables or `env.get_wrapper_attr('rewards')` that will search the reminding wrappers.\u001b[0m\n",
      "  logger.warn(\n",
      "/home/yanick/miniforge3/envs/stackelberg/lib/python3.10/site-packages/gymnasium/utils/passive_env_checker.py:181: DeprecationWarning: \u001b[33mWARN: Current gymnasium version requires that `Env.reset` can be passed `options` to allow the environment initialisation to be passed additional information.\u001b[0m\n",
      "  logger.deprecation(\n"
     ]
    }
   ],
   "source": [
    "q, policy, history = dyna_q_plus(env, n, num_episodes)"
   ]
  },
  {
   "cell_type": "code",
   "execution_count": null,
   "metadata": {},
   "outputs": [
    {
     "data": {
      "text/plain": [
       "array([[0.05, 0.95],\n",
       "       [0.05, 0.95],\n",
       "       [0.5 , 0.5 ]])"
      ]
     },
     "execution_count": 86,
     "metadata": {},
     "output_type": "execute_result"
    }
   ],
   "source": [
    "policy"
   ]
  },
  {
   "cell_type": "code",
   "execution_count": null,
   "metadata": {},
   "outputs": [],
   "source": [
    "env.draw_mdp(\"tmp.png\")"
   ]
  }
 ],
 "metadata": {
  "kernelspec": {
   "display_name": "stackelberg",
   "language": "python",
   "name": "python3"
  },
  "language_info": {
   "codemirror_mode": {
    "name": "ipython",
    "version": 3
   },
   "file_extension": ".py",
   "mimetype": "text/x-python",
   "name": "python",
   "nbconvert_exporter": "python",
   "pygments_lexer": "ipython3",
   "version": "3.10.14"
  }
 },
 "nbformat": 4,
 "nbformat_minor": 2
}
