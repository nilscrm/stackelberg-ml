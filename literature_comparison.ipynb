{
 "cells": [
  {
   "cell_type": "code",
   "execution_count": 35,
   "metadata": {},
   "outputs": [
    {
     "name": "stdout",
     "output_type": "stream",
     "text": [
      "Requirement already satisfied: optuna in /home/yanick/miniforge3/envs/stackelberg/lib/python3.10/site-packages (3.6.1)\n",
      "Requirement already satisfied: alembic>=1.5.0 in /home/yanick/miniforge3/envs/stackelberg/lib/python3.10/site-packages (from optuna) (1.13.1)\n",
      "Requirement already satisfied: colorlog in /home/yanick/miniforge3/envs/stackelberg/lib/python3.10/site-packages (from optuna) (6.8.2)\n",
      "Requirement already satisfied: numpy in /home/yanick/miniforge3/envs/stackelberg/lib/python3.10/site-packages (from optuna) (1.23.0)\n",
      "Requirement already satisfied: packaging>=20.0 in /home/yanick/miniforge3/envs/stackelberg/lib/python3.10/site-packages (from optuna) (24.1)\n",
      "Requirement already satisfied: sqlalchemy>=1.3.0 in /home/yanick/miniforge3/envs/stackelberg/lib/python3.10/site-packages (from optuna) (2.0.31)\n",
      "Requirement already satisfied: tqdm in /home/yanick/miniforge3/envs/stackelberg/lib/python3.10/site-packages (from optuna) (4.66.4)\n",
      "Requirement already satisfied: PyYAML in /home/yanick/miniforge3/envs/stackelberg/lib/python3.10/site-packages (from optuna) (6.0.1)\n",
      "Requirement already satisfied: Mako in /home/yanick/miniforge3/envs/stackelberg/lib/python3.10/site-packages (from alembic>=1.5.0->optuna) (1.3.5)\n",
      "Requirement already satisfied: typing-extensions>=4 in /home/yanick/miniforge3/envs/stackelberg/lib/python3.10/site-packages (from alembic>=1.5.0->optuna) (4.12.2)\n",
      "Requirement already satisfied: greenlet!=0.4.17 in /home/yanick/miniforge3/envs/stackelberg/lib/python3.10/site-packages (from sqlalchemy>=1.3.0->optuna) (3.0.3)\n",
      "Requirement already satisfied: MarkupSafe>=0.9.2 in /home/yanick/miniforge3/envs/stackelberg/lib/python3.10/site-packages (from Mako->alembic>=1.5.0->optuna) (2.1.5)\n",
      "Collecting scikit-learn\n",
      "  Downloading scikit_learn-1.5.0-cp310-cp310-manylinux_2_17_x86_64.manylinux2014_x86_64.whl.metadata (11 kB)\n",
      "Requirement already satisfied: numpy>=1.19.5 in /home/yanick/miniforge3/envs/stackelberg/lib/python3.10/site-packages (from scikit-learn) (1.23.0)\n",
      "Requirement already satisfied: scipy>=1.6.0 in /home/yanick/miniforge3/envs/stackelberg/lib/python3.10/site-packages (from scikit-learn) (1.13.1)\n",
      "Collecting joblib>=1.2.0 (from scikit-learn)\n",
      "  Downloading joblib-1.4.2-py3-none-any.whl.metadata (5.4 kB)\n",
      "Collecting threadpoolctl>=3.1.0 (from scikit-learn)\n",
      "  Downloading threadpoolctl-3.5.0-py3-none-any.whl.metadata (13 kB)\n",
      "Downloading scikit_learn-1.5.0-cp310-cp310-manylinux_2_17_x86_64.manylinux2014_x86_64.whl (13.3 MB)\n",
      "\u001b[2K   \u001b[38;2;114;156;31m━━━━━━━━━━━━━━━━━━━━━━━━━━━━━━━━━━━━━━━━\u001b[0m \u001b[32m13.3/13.3 MB\u001b[0m \u001b[31m61.6 MB/s\u001b[0m eta \u001b[36m0:00:00\u001b[0m31m69.2 MB/s\u001b[0m eta \u001b[36m0:00:01\u001b[0m\n",
      "\u001b[?25hDownloading joblib-1.4.2-py3-none-any.whl (301 kB)\n",
      "\u001b[2K   \u001b[38;2;114;156;31m━━━━━━━━━━━━━━━━━━━━━━━━━━━━━━━━━━━━━━━━\u001b[0m \u001b[32m301.8/301.8 kB\u001b[0m \u001b[31m22.5 MB/s\u001b[0m eta \u001b[36m0:00:00\u001b[0m\n",
      "\u001b[?25hDownloading threadpoolctl-3.5.0-py3-none-any.whl (18 kB)\n",
      "Installing collected packages: threadpoolctl, joblib, scikit-learn\n",
      "Successfully installed joblib-1.4.2 scikit-learn-1.5.0 threadpoolctl-3.5.0\n"
     ]
    }
   ],
   "source": [
    "!pip install optuna\n",
    "!pip install scikit-learn"
   ]
  },
  {
   "cell_type": "markdown",
   "metadata": {},
   "source": [
    "# Comparison with Algorithms from Literature"
   ]
  },
  {
   "cell_type": "code",
   "execution_count": 53,
   "metadata": {},
   "outputs": [],
   "source": [
    "from typing import List\n",
    "\n",
    "from math import ceil\n",
    "import gymnasium\n",
    "import numpy as np\n",
    "import torch\n",
    "import optuna\n",
    "\n",
    "import stackelberg_mbrl.envs.simple_mdp\n",
    "from stackelberg_mbrl.envs.querying_env import CountedEnvWrapper\n",
    "from stable_baselines3.common.evaluation import evaluate_policy\n",
    "import matplotlib.pyplot as plt\n",
    "from scipy.stats import sem\n",
    "from scipy.ndimage import gaussian_filter1d\n",
    "from scipy.interpolate import interp1d\n",
    "from sklearn.model_selection import cross_val_score\n",
    "\n",
    "from stable_baselines3.ppo import PPO\n",
    "from stable_baselines3.common.callbacks import BaseCallback"
   ]
  },
  {
   "cell_type": "code",
   "execution_count": 54,
   "metadata": {},
   "outputs": [],
   "source": [
    "class Policy:\n",
    "    \"\"\" Policy that operates on discrete state-/action-spaces \"\"\"\n",
    "    def __init__(self, action_probabilities: np.ndarray):\n",
    "        self.action_probabilities = action_probabilities\n",
    "    \n",
    "    def predict(self, observations, **kwargs):\n",
    "        state = observations.item()\n",
    "\n",
    "        action_probs = self.action_probabilities[state]\n",
    "        return torch.multinomial(torch.tensor(action_probs), num_samples=1).numpy(), observations\n",
    "        "
   ]
  },
  {
   "cell_type": "code",
   "execution_count": 55,
   "metadata": {},
   "outputs": [],
   "source": [
    "TRAINING_REPS = 10 # how often to train and observe sample efficiency\n",
    "SAMPLE_EVAL_RATE = 10 # how many samples inbetween two evaluations?\n",
    "N_EVAL_EPISODES = 10\n",
    "MAX_SAMPLES = 2_000 # what is the approximate maximum nr of samples that can be taken"
   ]
  },
  {
   "cell_type": "code",
   "execution_count": 56,
   "metadata": {},
   "outputs": [],
   "source": [
    "def extend_array(arr, new_length):\n",
    "    if len(arr) < new_length:\n",
    "        last_element = arr[-1]\n",
    "        extra_elements = [last_element] * (new_length - len(arr))\n",
    "        extended_arr = np.concatenate((arr, extra_elements))\n",
    "    else:\n",
    "        extended_arr = arr\n",
    "    return extended_arr\n",
    "\n",
    "def stack_arrays_with_padding(arrays):\n",
    "    max_length = max(len(arr) for arr in arrays)\n",
    "    extended_arrays = [extend_array(arr, max_length) for arr in arrays]\n",
    "    stacked_array = np.stack(extended_arrays, axis=0)\n",
    "    return stacked_array\n",
    "\n",
    "def interpolate(x, y, at):\n",
    "    return interp1d(x, y, kind=\"linear\", fill_value=(np.min(y), np.max(y)), bounds_error=False)(at)"
   ]
  },
  {
   "cell_type": "code",
   "execution_count": 57,
   "metadata": {},
   "outputs": [],
   "source": [
    "def plot(all_evals: List, label: str, smooth_factor=2, color=\"b\"):\n",
    "    intervals = np.arange(0, MAX_SAMPLES, SAMPLE_EVAL_RATE)\n",
    "    all_evals = np.stack([interpolate(np.array(evals)[:,0],np.array(evals)[:,1],intervals) for evals in all_evals])\n",
    "    mean_reward = all_evals.mean(axis=0)\n",
    "    sem_reward = sem(all_evals, axis=0)\n",
    "    ci_95 = 1.96 * sem_reward\n",
    "\n",
    "    mean_reward_smooth = gaussian_filter1d(mean_reward, smooth_factor)\n",
    "    ci_95_smooth = gaussian_filter1d(ci_95, smooth_factor)\n",
    "\n",
    "    plt.plot(intervals, mean_reward_smooth, label=label, color=color)\n",
    "    plt.fill_between(intervals, mean_reward_smooth - ci_95_smooth, mean_reward_smooth + ci_95_smooth, color=color, alpha=0.2)"
   ]
  },
  {
   "cell_type": "markdown",
   "metadata": {},
   "source": [
    "## Dyna-Q"
   ]
  },
  {
   "cell_type": "code",
   "execution_count": 58,
   "metadata": {},
   "outputs": [],
   "source": [
    "n = 10"
   ]
  },
  {
   "cell_type": "code",
   "execution_count": 59,
   "metadata": {},
   "outputs": [],
   "source": [
    "class NonDetModel:\n",
    "    def __init__(self, n_state, n_action, rewards):\n",
    "        self.Tc: np.ndarray = np.full((n_state, n_action, n_state), 0.0001)\n",
    "        self.rewards = rewards\n",
    "        self.encountered_state_action_pairs = set([])\n",
    "        self.encountered_states = set([])\n",
    "\n",
    "    def experience(self, s, a, s_next):\n",
    "        self.Tc[s,a,s_next] += 1\n",
    "        self.encountered_state_action_pairs.add((s, a))\n",
    "        self.encountered_states.add(s)\n",
    "    \n",
    "    def next_state_distribution(self, s, a):\n",
    "        return self.Tc[s,a,:] / self.Tc[s,a].sum()\n",
    "    \n",
    "    def sample_next_state(self, s, a):\n",
    "        s_next = torch.multinomial(torch.tensor(self.next_state_distribution(s, a)), num_samples=1).item()\n",
    "        return s_next, self.rewards[s,a,s_next]"
   ]
  },
  {
   "cell_type": "code",
   "execution_count": 61,
   "metadata": {},
   "outputs": [],
   "source": [
    "# Adapted from: https://github.com/vojtamolda/reinforcement-learning-an-introduction/blob/main/chapter08/dyna.py\n",
    "def dyna_q(env, n, max_samples, eps=0.1, eps_mul=1.0, alpha=0.5, gamma=0.95):\n",
    "    \"\"\" Tabular Dyna-Q algorithm per Chapter 8.2 \"\"\"\n",
    "    assert type(env.action_space) == gymnasium.spaces.Discrete\n",
    "    assert type(env.observation_space) == gymnasium.spaces.Discrete\n",
    "    history = [0]\n",
    "\n",
    "    # Number of available actions and maximal state ravel index\n",
    "    n_state, n_action = env.observation_space.n, env.action_space.n\n",
    "\n",
    "    # Initialization of action value function\n",
    "    q = np.zeros([n_state, n_action], dtype=float)\n",
    "\n",
    "    # Initialize policy to equal-probable random\n",
    "    policy = np.ones([n_state, n_action], dtype=float) / n_action\n",
    "    assert np.allclose(np.sum(policy, axis=1), 1)\n",
    "\n",
    "    # Evaluation\n",
    "    next_eval = 0\n",
    "    evals = []\n",
    "\n",
    "    # Model of a deterministic environment\n",
    "    model = NonDetModel(n_state, n_action, env.rewards)\n",
    "\n",
    "    while env.samples < max_samples:\n",
    "        state,_ = env.reset()\n",
    "\n",
    "        eps *= eps_mul\n",
    "        done = False\n",
    "        truncated = False\n",
    "        while not done and not truncated:\n",
    "            # Sample action according to the current policy and step the environment forward\n",
    "            action = np.random.choice(n_action, p=policy[state])\n",
    "            next, reward, done, truncated, info = env.step(action)\n",
    "            history += [reward]\n",
    "\n",
    "            # Update q value with a q-learning update and reset visit counter\n",
    "            q[state, action] += alpha * (reward + gamma * np.max(q[next]) - q[state, action])\n",
    "            model.experience(state, action, next)\n",
    "\n",
    "            # Planning with previously visited state-action pairs\n",
    "            transitions = list(model.encountered_state_action_pairs)\n",
    "            for i in range(n):\n",
    "                p_state, p_action = transitions[np.random.choice(len(transitions))]\n",
    "                p_next, p_reward = model.sample_next_state(p_state, p_action)\n",
    "                q[p_state, p_action] += alpha * (p_reward + gamma * np.max(q[p_next]) - q[p_state, p_action])\n",
    "\n",
    "            # Extract eps-greedy policy from the updated q values\n",
    "            policy[state, :] = eps / n_action\n",
    "            policy[state, np.argmax(q[state])] = 1 - eps + eps / n_action\n",
    "            assert np.allclose(np.sum(policy, axis=1), 1)\n",
    "\n",
    "            # Prepare the next q update and increase visit counter for all states\n",
    "            state = next\n",
    "\n",
    "        if env.samples >= next_eval:\n",
    "            r_mean,r_std = evaluate_policy(Policy(policy), env.env, n_eval_episodes=N_EVAL_EPISODES)\n",
    "            evals.append((env.samples, r_mean))\n",
    "            next_eval = env.samples + SAMPLE_EVAL_RATE\n",
    "            \n",
    "    return q, policy, history, evals\n",
    "\n",
    "def dyna_q_plus(env, n, max_samples, eps=0.1, eps_mul=1.0, alpha=0.5, gamma=0.95, kappa=1e-4, action_only=False):\n",
    "    \"\"\" Tabular Dyna-Q+ algorithm per Chapter 8.3 (action_only=False) or Exercise 8.4 (action_only=True). \"\"\"\n",
    "    assert type(env.action_space) == gymnasium.spaces.Discrete\n",
    "    assert type(env.observation_space) == gymnasium.spaces.Discrete\n",
    "    history = [0]\n",
    "\n",
    "    # Number of available actions and maximal state ravel index\n",
    "    n_state, n_action = env.observation_space.n, env.action_space.n\n",
    "\n",
    "    # Initialization of action value function and visit counter\n",
    "    q = np.zeros([n_state, n_action], dtype=float)\n",
    "    tau = np.zeros([n_state, n_action], dtype=np.int64)\n",
    "\n",
    "    # Initialize policy to equal-probable random\n",
    "    policy = np.ones([n_state, n_action], dtype=float) / n_action\n",
    "    assert np.allclose(np.sum(policy, axis=1), 1)\n",
    "\n",
    "    # Evaluation\n",
    "    next_eval = 0\n",
    "    evals = []\n",
    "\n",
    "    # Model of a deterministic environment\n",
    "    model = NonDetModel(n_state, n_action, env.rewards)\n",
    "\n",
    "    while env.samples < max_samples:\n",
    "        state,_ = env.reset()\n",
    "\n",
    "        eps *= eps_mul\n",
    "        done = False\n",
    "        truncated = False\n",
    "        while not done and not truncated:\n",
    "            # Sample action according to the current policy and step the environment forward\n",
    "            action = np.random.choice(n_action, p=policy[state])\n",
    "            next, reward, done, truncated, info = env.step(action)\n",
    "            history += [reward]\n",
    "\n",
    "            # Update q value with a q-learning update and reset visit counter\n",
    "            q[state, action] += alpha * (reward + gamma * np.max(q[next]) - q[state, action])\n",
    "            model.experience(state, action, next) \n",
    "            tau[state, action] = 0\n",
    "\n",
    "            # Planning that allows taking unvisited actions from visited states\n",
    "            states = list(model.encountered_states)\n",
    "            for i in range(n):\n",
    "                p_state = states[np.random.choice(len(states))]\n",
    "                p_action = np.random.choice(n_action)\n",
    "                p_next, p_reward = model.sample_next_state(p_state, p_action)\n",
    "                bonus = 0 if action_only else kappa * np.sqrt(tau[p_state, p_action])\n",
    "                q[p_state, p_action] += alpha * (p_reward + bonus + gamma * np.max(q[p_next]) - q[p_state, p_action])\n",
    "\n",
    "            # Extract eps-greedy policy from the updated q values and exploration bonus\n",
    "            bonus = kappa * np.sqrt(tau[state]) if action_only else 0\n",
    "            policy[state, :] = eps / n_action\n",
    "            policy[state, np.argmax(q[state] + bonus)] = 1 - eps + eps / n_action\n",
    "            assert np.allclose(np.sum(policy, axis=1), 1)\n",
    "\n",
    "            # Prepare the next q update and increase visit counter for all states\n",
    "            state = next\n",
    "            tau += 1\n",
    "\n",
    "            if env.samples >= next_eval:\n",
    "                r_mean,r_std = evaluate_policy(Policy(policy), env.env, n_eval_episodes=N_EVAL_EPISODES)\n",
    "                evals.append((env.samples, r_mean))\n",
    "                next_eval = env.samples + SAMPLE_EVAL_RATE\n",
    "\n",
    "    return q, policy, history, evals"
   ]
  },
  {
   "cell_type": "code",
   "execution_count": 64,
   "metadata": {},
   "outputs": [],
   "source": [
    "all_evals_dynq = []\n",
    "for i in range(TRAINING_REPS):\n",
    "    env = CountedEnvWrapper(gymnasium.make(\"simple_mdp_2\", max_ep_steps=50))\n",
    "    q, policy, history, evals = dyna_q(env, n, MAX_SAMPLES, eps=0.76, eps_mul=0.69, alpha=0.69, gamma=0.9)\n",
    "    # print(policy)\n",
    "    all_evals_dynq.append(evals)"
   ]
  },
  {
   "cell_type": "code",
   "execution_count": 70,
   "metadata": {},
   "outputs": [],
   "source": [
    "all_evals_dynq_plus = []\n",
    "for i in range(TRAINING_REPS):\n",
    "    env = CountedEnvWrapper(gymnasium.make(\"simple_mdp_2\", max_ep_steps=50))\n",
    "    # 'eps': 0.1441553715570536, 'eps_mul': 0.10346795021982362, 'alpha': 0.9973707954756627, 'gamma': 0.9347666395713308\n",
    "    q, policy, history, evals = dyna_q_plus(env, n, MAX_SAMPLES, eps=0.144, eps_mul=0.1, alpha=0.99, gamma=0.93, kappa=0.0001)\n",
    "    all_evals_dynq_plus.append(evals)"
   ]
  },
  {
   "cell_type": "markdown",
   "metadata": {},
   "source": [
    "## PPO"
   ]
  },
  {
   "cell_type": "code",
   "execution_count": 28,
   "metadata": {},
   "outputs": [],
   "source": [
    "# See https://stable-baselines3.readthedocs.io/en/master/guide/callbacks.html\n",
    "class PPOCallback(BaseCallback):\n",
    "    def __init__(self, eval_env, max_samples):\n",
    "        super().__init__(verbose=0)\n",
    "        self.eval_env = eval_env\n",
    "        self.max_samples = max_samples\n",
    "\n",
    "        self.next_eval = 0\n",
    "        self.evals = []\n",
    "\n",
    "    def _on_training_start(self) -> None:\n",
    "        pass\n",
    "\n",
    "    def _on_rollout_start(self) -> None:\n",
    "        pass\n",
    "\n",
    "    def _on_step(self) -> bool:\n",
    "        return self.num_timesteps < self.max_samples\n",
    "\n",
    "    def _on_rollout_end(self) -> None:\n",
    "        if self.num_timesteps >= self.next_eval:\n",
    "            r_mean,r_std = evaluate_policy(self.model.policy, self.eval_env, n_eval_episodes=N_EVAL_EPISODES)\n",
    "            self.evals.append((self.num_timesteps, r_mean))\n",
    "            self.next_eval = self.num_timesteps + SAMPLE_EVAL_RATE\n",
    "\n",
    "    def _on_training_end(self) -> None:\n",
    "        pass"
   ]
  },
  {
   "cell_type": "code",
   "execution_count": 12,
   "metadata": {},
   "outputs": [],
   "source": [
    "policy_kwargs = dict(activation_fn=torch.nn.ReLU,\n",
    "                     net_arch=dict(pi=[16, 16], vf=[16, 16]))"
   ]
  },
  {
   "cell_type": "code",
   "execution_count": 13,
   "metadata": {},
   "outputs": [
    {
     "name": "stderr",
     "output_type": "stream",
     "text": [
      "/home/yanick/miniforge3/envs/stackelberg/lib/python3.10/site-packages/stable_baselines3/ppo/ppo.py:155: UserWarning: You have specified a mini-batch size of 64, but because the `RolloutBuffer` is of size `n_steps * n_envs = 10`, after every 0 untruncated mini-batches, there will be a truncated mini-batch of size 10\n",
      "We recommend using a `batch_size` that is a factor of `n_steps * n_envs`.\n",
      "Info: (n_steps=10 and n_envs=1)\n",
      "  warnings.warn(\n",
      "/home/yanick/miniforge3/envs/stackelberg/lib/python3.10/site-packages/gymnasium/utils/passive_env_checker.py:181: DeprecationWarning: \u001b[33mWARN: Current gymnasium version requires that `Env.reset` can be passed `options` to allow the environment initialisation to be passed additional information.\u001b[0m\n",
      "  logger.deprecation(\n",
      "/home/yanick/miniforge3/envs/stackelberg/lib/python3.10/site-packages/stable_baselines3/common/evaluation.py:67: UserWarning: Evaluation environment is not wrapped with a ``Monitor`` wrapper. This may result in reporting modified episode lengths and rewards, if other wrappers happen to modify these. Consider wrapping environment first with ``Monitor`` wrapper.\n",
      "  warnings.warn(\n",
      "/home/yanick/miniforge3/envs/stackelberg/lib/python3.10/site-packages/stable_baselines3/ppo/ppo.py:155: UserWarning: You have specified a mini-batch size of 64, but because the `RolloutBuffer` is of size `n_steps * n_envs = 10`, after every 0 untruncated mini-batches, there will be a truncated mini-batch of size 10\n",
      "We recommend using a `batch_size` that is a factor of `n_steps * n_envs`.\n",
      "Info: (n_steps=10 and n_envs=1)\n",
      "  warnings.warn(\n"
     ]
    }
   ],
   "source": [
    "all_evals_ppo = []\n",
    "for i in range(TRAINING_REPS):\n",
    "    env = gymnasium.make(\"simple_mdp_2\", max_ep_steps=50)\n",
    "    eval_env = gymnasium.make(\"simple_mdp_2\", max_ep_steps=50)\n",
    "    \n",
    "    model_ppo = PPO(\n",
    "        \"MlpPolicy\",\n",
    "        env,\n",
    "        policy_kwargs=policy_kwargs,\n",
    "        gamma=1.0,\n",
    "        n_steps=SAMPLE_EVAL_RATE\n",
    "    )\n",
    "\n",
    "    callback = PPOCallback(eval_env, MAX_SAMPLES)\n",
    "    model_ppo.learn(total_timesteps=MAX_SAMPLES, callback=callback)\n",
    "    all_evals_ppo.append(callback.evals)"
   ]
  },
  {
   "cell_type": "markdown",
   "metadata": {},
   "source": [
    "## Visualization"
   ]
  },
  {
   "cell_type": "code",
   "execution_count": 72,
   "metadata": {},
   "outputs": [
    {
     "data": {
      "text/plain": [
       "<matplotlib.legend.Legend at 0x7569b18bc610>"
      ]
     },
     "execution_count": 72,
     "metadata": {},
     "output_type": "execute_result"
    },
    {
     "data": {
      "image/png": "[encoded data removed]",
      "text/plain": [
       "<Figure size 640x480 with 1 Axes>"
      ]
     },
     "metadata": {},
     "output_type": "display_data"
    }
   ],
   "source": [
    "smooth_factor = 5.0\n",
    "plot(all_evals_dynq, \"Dyna-Q\", color=\"b\", smooth_factor=smooth_factor)\n",
    "plot(all_evals_dynq_plus, \"Dyna-Q+\", color=\"r\", smooth_factor=smooth_factor)\n",
    "# plot(all_evals_ppo, \"PPO\", color=\"g\")\n",
    "plt.title(\"Sample Efficiency\")\n",
    "plt.ylabel(\"Episode Reward (max 50 Steps)\")\n",
    "plt.xlabel(\"Samples\")\n",
    "plt.legend()"
   ]
  },
  {
   "cell_type": "markdown",
   "metadata": {},
   "source": [
    "# Hyperparameter Tuning"
   ]
  },
  {
   "cell_type": "code",
   "execution_count": null,
   "metadata": {},
   "outputs": [],
   "source": [
    "def objective(trial):\n",
    "    eps = trial.suggest_float('eps', 1e-6, 1)\n",
    "    eps_mul = trial.suggest_float('eps_mul', 0.1, 1)\n",
    "    alpha = trial.suggest_float('alpha', 0.1, 1)\n",
    "    gamma = trial.suggest_float('gamma', 0.1, 1)\n",
    "    \n",
    "    means = []\n",
    "    for i in range(10):\n",
    "        env = CountedEnvWrapper(gymnasium.make(\"simple_mdp_2\", max_ep_steps=50))\n",
    "        q, policy, history, evals = dyna_q(env, n, MAX_SAMPLES, eps=eps, eps_mul=eps_mul, alpha=alpha, gamma=gamma)\n",
    "        means.append(np.array(evals)[:,1].mean())\n",
    "    return np.mean(means)\n",
    "\n",
    "# Create a study object and optimize the objective function\n",
    "study = optuna.create_study(direction='maximize')\n",
    "study.optimize(objective, n_trials=100)\n",
    "\n",
    "# Print the best set of hyperparameters\n",
    "print('Best hyperparameters: ', study.best_params)\n",
    "# Print the corresponding performance\n",
    "print('Best performance: ', study.best_value)"
   ]
  },
  {
   "cell_type": "code",
   "execution_count": 69,
   "metadata": {},
   "outputs": [
    {
     "name": "stderr",
     "output_type": "stream",
     "text": [
      "[I 2024-06-22 14:09:38,275] A new study created in memory with name: no-name-fe1bdc30-d365-4d83-89db-a667394500a3\n",
      "/home/yanick/miniforge3/envs/stackelberg/lib/python3.10/site-packages/gymnasium/core.py:311: UserWarning: \u001b[33mWARN: env.rewards to get variables from other wrappers is deprecated and will be removed in v1.0, to get this variable you can do `env.unwrapped.rewards` for environment variables or `env.get_wrapper_attr('rewards')` that will search the reminding wrappers.\u001b[0m\n",
      "  logger.warn(\n",
      "/home/yanick/miniforge3/envs/stackelberg/lib/python3.10/site-packages/gymnasium/utils/passive_env_checker.py:181: DeprecationWarning: \u001b[33mWARN: Current gymnasium version requires that `Env.reset` can be passed `options` to allow the environment initialisation to be passed additional information.\u001b[0m\n",
      "  logger.deprecation(\n",
      "/home/yanick/miniforge3/envs/stackelberg/lib/python3.10/site-packages/stable_baselines3/common/evaluation.py:67: UserWarning: Evaluation environment is not wrapped with a ``Monitor`` wrapper. This may result in reporting modified episode lengths and rewards, if other wrappers happen to modify these. Consider wrapping environment first with ``Monitor`` wrapper.\n",
      "  warnings.warn(\n",
      "[I 2024-06-22 14:09:49,031] Trial 0 finished with value: 8.195281333777379 and parameters: {'eps': 0.6140730311493069, 'eps_mul': 0.8692618706594171, 'alpha': 0.6181644439183812, 'gamma': 0.4018296432033318}. Best is trial 0 with value: 8.195281333777379.\n",
      "[I 2024-06-22 14:09:55,546] Trial 1 finished with value: 3.5537483444145073 and parameters: {'eps': 0.053012503555927674, 'eps_mul': 0.6526025315836355, 'alpha': 0.6208510416222074, 'gamma': 0.2872045539105377}. Best is trial 0 with value: 8.195281333777379.\n",
      "[I 2024-06-22 14:10:28,771] Trial 2 finished with value: 31.89401389874625 and parameters: {'eps': 0.5361866566605703, 'eps_mul': 0.5538538634958756, 'alpha': 0.7068248013654272, 'gamma': 0.8044068857357595}. Best is trial 2 with value: 31.89401389874625.\n",
      "[I 2024-06-22 14:10:38,363] Trial 3 finished with value: 7.217024669995874 and parameters: {'eps': 0.9691636669807526, 'eps_mul': 0.42440376349740205, 'alpha': 0.28240513158772834, 'gamma': 0.5046221933536026}. Best is trial 2 with value: 31.89401389874625.\n",
      "[I 2024-06-22 14:11:03,863] Trial 4 finished with value: 23.54699680533147 and parameters: {'eps': 0.91694724663942, 'eps_mul': 0.43858742006815477, 'alpha': 0.6241589759958984, 'gamma': 0.669933980996249}. Best is trial 2 with value: 31.89401389874625.\n",
      "[I 2024-06-22 14:11:12,108] Trial 5 finished with value: 5.389335209437945 and parameters: {'eps': 0.6031009913254982, 'eps_mul': 0.27703734278265524, 'alpha': 0.27791695312460524, 'gamma': 0.4040437815394604}. Best is trial 2 with value: 31.89401389874625.\n",
      "[I 2024-06-22 14:11:16,475] Trial 6 finished with value: 1.4161892873073332 and parameters: {'eps': 0.8063922151511494, 'eps_mul': 0.43840025071396427, 'alpha': 0.21520904273414998, 'gamma': 0.1880049786462789}. Best is trial 2 with value: 31.89401389874625.\n",
      "[I 2024-06-22 14:11:44,100] Trial 7 finished with value: 14.620981610851771 and parameters: {'eps': 0.8002835963587694, 'eps_mul': 0.4836645988380932, 'alpha': 0.30238362939788077, 'gamma': 0.8045000882710233}. Best is trial 2 with value: 31.89401389874625.\n",
      "[I 2024-06-22 14:12:21,908] Trial 8 finished with value: 28.93908351969322 and parameters: {'eps': 0.8525861350232506, 'eps_mul': 0.8250729673343135, 'alpha': 0.1423419634463801, 'gamma': 0.8758563999696214}. Best is trial 2 with value: 31.89401389874625.\n",
      "[I 2024-06-22 14:12:29,294] Trial 9 finished with value: 4.316908976301005 and parameters: {'eps': 0.6381559682198421, 'eps_mul': 0.9795756352481794, 'alpha': 0.42800160735826387, 'gamma': 0.2883323747200521}. Best is trial 2 with value: 31.89401389874625.\n",
      "[I 2024-06-22 14:13:07,850] Trial 10 finished with value: 28.572823760274854 and parameters: {'eps': 0.22846821475086893, 'eps_mul': 0.17804231492507194, 'alpha': 0.9082765642950069, 'gamma': 0.9926952825319197}. Best is trial 2 with value: 31.89401389874625.\n",
      "[I 2024-06-22 14:13:56,858] Trial 11 finished with value: 30.06069555679347 and parameters: {'eps': 0.38413246964814746, 'eps_mul': 0.6799533026796316, 'alpha': 0.8421052647876889, 'gamma': 0.8913629373416957}. Best is trial 2 with value: 31.89401389874625.\n",
      "[I 2024-06-22 14:14:24,338] Trial 12 finished with value: 26.132052082175953 and parameters: {'eps': 0.34057538663940795, 'eps_mul': 0.6541635451379082, 'alpha': 0.8451690253552938, 'gamma': 0.7154374740271603}. Best is trial 2 with value: 31.89401389874625.\n",
      "[I 2024-06-22 14:15:05,420] Trial 13 finished with value: 27.597574984369476 and parameters: {'eps': 0.4259931201090058, 'eps_mul': 0.6350193371950981, 'alpha': 0.780497055411618, 'gamma': 0.982887613512814}. Best is trial 2 with value: 31.89401389874625.\n",
      "[I 2024-06-22 14:15:31,093] Trial 14 finished with value: 24.64195761187175 and parameters: {'eps': 0.25543129296022293, 'eps_mul': 0.7681238907575201, 'alpha': 0.9902067840887208, 'gamma': 0.6420258571611409}. Best is trial 2 with value: 31.89401389874625.\n",
      "[I 2024-06-22 14:16:13,037] Trial 15 finished with value: 31.290760295345592 and parameters: {'eps': 0.47902702541477005, 'eps_mul': 0.5815597915219788, 'alpha': 0.7340198614866893, 'gamma': 0.8333167555972804}. Best is trial 2 with value: 31.89401389874625.\n",
      "[I 2024-06-22 14:16:46,658] Trial 16 finished with value: 31.15377543426455 and parameters: {'eps': 0.5208667290141167, 'eps_mul': 0.3012042123671992, 'alpha': 0.7440416156715285, 'gamma': 0.7493423216002084}. Best is trial 2 with value: 31.89401389874625.\n",
      "[I 2024-06-22 14:17:02,776] Trial 17 finished with value: 13.59304168012066 and parameters: {'eps': 0.7058949898440265, 'eps_mul': 0.5537890580827157, 'alpha': 0.4815567407517561, 'gamma': 0.5772269354371896}. Best is trial 2 with value: 31.89401389874625.\n",
      "[I 2024-06-22 14:17:44,891] Trial 18 finished with value: 31.029415159140314 and parameters: {'eps': 0.061176198414836125, 'eps_mul': 0.5633675979924857, 'alpha': 0.7073524587933446, 'gamma': 0.8156136609755692}. Best is trial 2 with value: 31.89401389874625.\n",
      "[I 2024-06-22 14:18:06,177] Trial 19 finished with value: 11.379276390957832 and parameters: {'eps': 0.4895149446407546, 'eps_mul': 0.331564987813014, 'alpha': 0.49752328871342816, 'gamma': 0.8977172427037624}. Best is trial 2 with value: 31.89401389874625.\n",
      "[I 2024-06-22 14:18:27,611] Trial 20 finished with value: 19.916081654108012 and parameters: {'eps': 0.23651476712402136, 'eps_mul': 0.7581659253198347, 'alpha': 0.6692817828175598, 'gamma': 0.5719804449460109}. Best is trial 2 with value: 31.89401389874625.\n",
      "[I 2024-06-22 14:18:56,572] Trial 21 finished with value: 28.172050656328246 and parameters: {'eps': 0.5029552255310353, 'eps_mul': 0.11511847661739061, 'alpha': 0.7682201513125873, 'gamma': 0.7404320331822258}. Best is trial 2 with value: 31.89401389874625.\n",
      "[I 2024-06-22 14:19:30,772] Trial 22 finished with value: 29.85002351216023 and parameters: {'eps': 0.4992815357610325, 'eps_mul': 0.28018503665158423, 'alpha': 0.729243857378923, 'gamma': 0.7860313245385449}. Best is trial 2 with value: 31.89401389874625.\n",
      "[I 2024-06-22 14:19:58,041] Trial 23 finished with value: 26.479233982641006 and parameters: {'eps': 0.7091176324984456, 'eps_mul': 0.31677365158924103, 'alpha': 0.8418915672622485, 'gamma': 0.673074112289406}. Best is trial 2 with value: 31.89401389874625.\n",
      "[I 2024-06-22 14:20:43,768] Trial 24 finished with value: 27.144920096238394 and parameters: {'eps': 0.5574386290746092, 'eps_mul': 0.5183944124944739, 'alpha': 0.5673223866381695, 'gamma': 0.8520003795408964}. Best is trial 2 with value: 31.89401389874625.\n",
      "[I 2024-06-22 14:21:20,810] Trial 25 finished with value: 31.346464067894516 and parameters: {'eps': 0.3183124951458891, 'eps_mul': 0.36242812747755687, 'alpha': 0.954253471321944, 'gamma': 0.9275807423343596}. Best is trial 2 with value: 31.89401389874625.\n",
      "[I 2024-06-22 14:21:59,281] Trial 26 finished with value: 33.41673353059746 and parameters: {'eps': 0.1345663821155606, 'eps_mul': 0.3785100895422175, 'alpha': 0.9576099731775238, 'gamma': 0.9581864553151013}. Best is trial 26 with value: 33.41673353059746.\n",
      "[I 2024-06-22 14:22:39,236] Trial 27 finished with value: 31.203220942744657 and parameters: {'eps': 0.14350017948772553, 'eps_mul': 0.38251992468409635, 'alpha': 0.9432405594570559, 'gamma': 0.9409033906374459}. Best is trial 26 with value: 33.41673353059746.\n",
      "[I 2024-06-22 14:23:19,231] Trial 28 finished with value: 31.749019442429415 and parameters: {'eps': 0.1658422159163814, 'eps_mul': 0.21191492130578413, 'alpha': 0.9915335782650616, 'gamma': 0.9411753926580554}. Best is trial 26 with value: 33.41673353059746.\n",
      "[I 2024-06-22 14:24:37,539] Trial 29 finished with value: 28.069448603098557 and parameters: {'eps': 0.14449816415288266, 'eps_mul': 0.21406499216485797, 'alpha': 0.8863395026779204, 'gamma': 0.9969784339759298}. Best is trial 26 with value: 33.41673353059746.\n",
      "[I 2024-06-22 14:25:27,442] Trial 30 finished with value: 32.65211191190252 and parameters: {'eps': 0.010684093335203884, 'eps_mul': 0.20112030189387664, 'alpha': 0.9886671424302692, 'gamma': 0.942731308788001}. Best is trial 26 with value: 33.41673353059746.\n",
      "[I 2024-06-22 14:26:26,555] Trial 31 finished with value: 34.54924536667774 and parameters: {'eps': 0.1441553715570536, 'eps_mul': 0.10346795021982362, 'alpha': 0.9973707954756627, 'gamma': 0.9347666395713308}. Best is trial 31 with value: 34.54924536667774.\n",
      "[W 2024-06-22 14:29:39,650] Trial 32 failed with parameters: {'eps': 0.00013982953641016559, 'eps_mul': 0.12573852340868186, 'alpha': 0.8958783070593817, 'gamma': 0.9222647445913484} because of the following error: KeyboardInterrupt().\n",
      "Traceback (most recent call last):\n",
      "  File \"/home/yanick/miniforge3/envs/stackelberg/lib/python3.10/site-packages/optuna/study/_optimize.py\", line 196, in _run_trial\n",
      "    value_or_values = func(trial)\n",
      "  File \"/tmp/ipykernel_9558/3338307106.py\", line 10, in objective\n",
      "    q, policy, history, evals = dyna_q_plus(env, n, MAX_SAMPLES, eps=eps, eps_mul=eps_mul, alpha=alpha, gamma=gamma)\n",
      "  File \"/tmp/ipykernel_9558/1385437473.py\", line 124, in dyna_q_plus\n",
      "    r_mean,r_std = evaluate_policy(Policy(policy), env.env, n_eval_episodes=N_EVAL_EPISODES)\n",
      "  File \"/home/yanick/miniforge3/envs/stackelberg/lib/python3.10/site-packages/stable_baselines3/common/evaluation.py\", line 88, in evaluate_policy\n",
      "    actions, states = model.predict(\n",
      "  File \"/tmp/ipykernel_9558/957091049.py\", line 10, in predict\n",
      "    return torch.multinomial(torch.tensor(action_probs), num_samples=1).numpy(), observations\n",
      "KeyboardInterrupt\n",
      "[W 2024-06-22 14:29:39,650] Trial 32 failed with value None.\n"
     ]
    },
    {
     "ename": "KeyboardInterrupt",
     "evalue": "",
     "output_type": "error",
     "traceback": [
      "\u001b[0;31m---------------------------------------------------------------------------\u001b[0m",
      "\u001b[0;31mKeyboardInterrupt\u001b[0m                         Traceback (most recent call last)",
      "Cell \u001b[0;32mIn[69], line 16\u001b[0m\n\u001b[1;32m     14\u001b[0m \u001b[38;5;66;03m# Create a study object and optimize the objective function\u001b[39;00m\n\u001b[1;32m     15\u001b[0m study \u001b[38;5;241m=\u001b[39m optuna\u001b[38;5;241m.\u001b[39mcreate_study(direction\u001b[38;5;241m=\u001b[39m\u001b[38;5;124m'\u001b[39m\u001b[38;5;124mmaximize\u001b[39m\u001b[38;5;124m'\u001b[39m)\n\u001b[0;32m---> 16\u001b[0m \u001b[43mstudy\u001b[49m\u001b[38;5;241;43m.\u001b[39;49m\u001b[43moptimize\u001b[49m\u001b[43m(\u001b[49m\u001b[43mobjective\u001b[49m\u001b[43m,\u001b[49m\u001b[43m \u001b[49m\u001b[43mn_trials\u001b[49m\u001b[38;5;241;43m=\u001b[39;49m\u001b[38;5;241;43m100\u001b[39;49m\u001b[43m)\u001b[49m\n\u001b[1;32m     18\u001b[0m \u001b[38;5;66;03m# Print the best set of hyperparameters\u001b[39;00m\n\u001b[1;32m     19\u001b[0m \u001b[38;5;28mprint\u001b[39m(\u001b[38;5;124m'\u001b[39m\u001b[38;5;124mBest hyperparameters: \u001b[39m\u001b[38;5;124m'\u001b[39m, study\u001b[38;5;241m.\u001b[39mbest_params)\n",
      "File \u001b[0;32m~/miniforge3/envs/stackelberg/lib/python3.10/site-packages/optuna/study/study.py:451\u001b[0m, in \u001b[0;36mStudy.optimize\u001b[0;34m(self, func, n_trials, timeout, n_jobs, catch, callbacks, gc_after_trial, show_progress_bar)\u001b[0m\n\u001b[1;32m    348\u001b[0m \u001b[38;5;28;01mdef\u001b[39;00m \u001b[38;5;21moptimize\u001b[39m(\n\u001b[1;32m    349\u001b[0m     \u001b[38;5;28mself\u001b[39m,\n\u001b[1;32m    350\u001b[0m     func: ObjectiveFuncType,\n\u001b[0;32m   (...)\u001b[0m\n\u001b[1;32m    357\u001b[0m     show_progress_bar: \u001b[38;5;28mbool\u001b[39m \u001b[38;5;241m=\u001b[39m \u001b[38;5;28;01mFalse\u001b[39;00m,\n\u001b[1;32m    358\u001b[0m ) \u001b[38;5;241m-\u001b[39m\u001b[38;5;241m>\u001b[39m \u001b[38;5;28;01mNone\u001b[39;00m:\n\u001b[1;32m    359\u001b[0m \u001b[38;5;250m    \u001b[39m\u001b[38;5;124;03m\"\"\"Optimize an objective function.\u001b[39;00m\n\u001b[1;32m    360\u001b[0m \n\u001b[1;32m    361\u001b[0m \u001b[38;5;124;03m    Optimization is done by choosing a suitable set of hyperparameter values from a given\u001b[39;00m\n\u001b[0;32m   (...)\u001b[0m\n\u001b[1;32m    449\u001b[0m \u001b[38;5;124;03m            If nested invocation of this method occurs.\u001b[39;00m\n\u001b[1;32m    450\u001b[0m \u001b[38;5;124;03m    \"\"\"\u001b[39;00m\n\u001b[0;32m--> 451\u001b[0m     \u001b[43m_optimize\u001b[49m\u001b[43m(\u001b[49m\n\u001b[1;32m    452\u001b[0m \u001b[43m        \u001b[49m\u001b[43mstudy\u001b[49m\u001b[38;5;241;43m=\u001b[39;49m\u001b[38;5;28;43mself\u001b[39;49m\u001b[43m,\u001b[49m\n\u001b[1;32m    453\u001b[0m \u001b[43m        \u001b[49m\u001b[43mfunc\u001b[49m\u001b[38;5;241;43m=\u001b[39;49m\u001b[43mfunc\u001b[49m\u001b[43m,\u001b[49m\n\u001b[1;32m    454\u001b[0m \u001b[43m        \u001b[49m\u001b[43mn_trials\u001b[49m\u001b[38;5;241;43m=\u001b[39;49m\u001b[43mn_trials\u001b[49m\u001b[43m,\u001b[49m\n\u001b[1;32m    455\u001b[0m \u001b[43m        \u001b[49m\u001b[43mtimeout\u001b[49m\u001b[38;5;241;43m=\u001b[39;49m\u001b[43mtimeout\u001b[49m\u001b[43m,\u001b[49m\n\u001b[1;32m    456\u001b[0m \u001b[43m        \u001b[49m\u001b[43mn_jobs\u001b[49m\u001b[38;5;241;43m=\u001b[39;49m\u001b[43mn_jobs\u001b[49m\u001b[43m,\u001b[49m\n\u001b[1;32m    457\u001b[0m \u001b[43m        \u001b[49m\u001b[43mcatch\u001b[49m\u001b[38;5;241;43m=\u001b[39;49m\u001b[38;5;28;43mtuple\u001b[39;49m\u001b[43m(\u001b[49m\u001b[43mcatch\u001b[49m\u001b[43m)\u001b[49m\u001b[43m \u001b[49m\u001b[38;5;28;43;01mif\u001b[39;49;00m\u001b[43m \u001b[49m\u001b[38;5;28;43misinstance\u001b[39;49m\u001b[43m(\u001b[49m\u001b[43mcatch\u001b[49m\u001b[43m,\u001b[49m\u001b[43m \u001b[49m\u001b[43mIterable\u001b[49m\u001b[43m)\u001b[49m\u001b[43m \u001b[49m\u001b[38;5;28;43;01melse\u001b[39;49;00m\u001b[43m \u001b[49m\u001b[43m(\u001b[49m\u001b[43mcatch\u001b[49m\u001b[43m,\u001b[49m\u001b[43m)\u001b[49m\u001b[43m,\u001b[49m\n\u001b[1;32m    458\u001b[0m \u001b[43m        \u001b[49m\u001b[43mcallbacks\u001b[49m\u001b[38;5;241;43m=\u001b[39;49m\u001b[43mcallbacks\u001b[49m\u001b[43m,\u001b[49m\n\u001b[1;32m    459\u001b[0m \u001b[43m        \u001b[49m\u001b[43mgc_after_trial\u001b[49m\u001b[38;5;241;43m=\u001b[39;49m\u001b[43mgc_after_trial\u001b[49m\u001b[43m,\u001b[49m\n\u001b[1;32m    460\u001b[0m \u001b[43m        \u001b[49m\u001b[43mshow_progress_bar\u001b[49m\u001b[38;5;241;43m=\u001b[39;49m\u001b[43mshow_progress_bar\u001b[49m\u001b[43m,\u001b[49m\n\u001b[1;32m    461\u001b[0m \u001b[43m    \u001b[49m\u001b[43m)\u001b[49m\n",
      "File \u001b[0;32m~/miniforge3/envs/stackelberg/lib/python3.10/site-packages/optuna/study/_optimize.py:62\u001b[0m, in \u001b[0;36m_optimize\u001b[0;34m(study, func, n_trials, timeout, n_jobs, catch, callbacks, gc_after_trial, show_progress_bar)\u001b[0m\n\u001b[1;32m     60\u001b[0m \u001b[38;5;28;01mtry\u001b[39;00m:\n\u001b[1;32m     61\u001b[0m     \u001b[38;5;28;01mif\u001b[39;00m n_jobs \u001b[38;5;241m==\u001b[39m \u001b[38;5;241m1\u001b[39m:\n\u001b[0;32m---> 62\u001b[0m         \u001b[43m_optimize_sequential\u001b[49m\u001b[43m(\u001b[49m\n\u001b[1;32m     63\u001b[0m \u001b[43m            \u001b[49m\u001b[43mstudy\u001b[49m\u001b[43m,\u001b[49m\n\u001b[1;32m     64\u001b[0m \u001b[43m            \u001b[49m\u001b[43mfunc\u001b[49m\u001b[43m,\u001b[49m\n\u001b[1;32m     65\u001b[0m \u001b[43m            \u001b[49m\u001b[43mn_trials\u001b[49m\u001b[43m,\u001b[49m\n\u001b[1;32m     66\u001b[0m \u001b[43m            \u001b[49m\u001b[43mtimeout\u001b[49m\u001b[43m,\u001b[49m\n\u001b[1;32m     67\u001b[0m \u001b[43m            \u001b[49m\u001b[43mcatch\u001b[49m\u001b[43m,\u001b[49m\n\u001b[1;32m     68\u001b[0m \u001b[43m            \u001b[49m\u001b[43mcallbacks\u001b[49m\u001b[43m,\u001b[49m\n\u001b[1;32m     69\u001b[0m \u001b[43m            \u001b[49m\u001b[43mgc_after_trial\u001b[49m\u001b[43m,\u001b[49m\n\u001b[1;32m     70\u001b[0m \u001b[43m            \u001b[49m\u001b[43mreseed_sampler_rng\u001b[49m\u001b[38;5;241;43m=\u001b[39;49m\u001b[38;5;28;43;01mFalse\u001b[39;49;00m\u001b[43m,\u001b[49m\n\u001b[1;32m     71\u001b[0m \u001b[43m            \u001b[49m\u001b[43mtime_start\u001b[49m\u001b[38;5;241;43m=\u001b[39;49m\u001b[38;5;28;43;01mNone\u001b[39;49;00m\u001b[43m,\u001b[49m\n\u001b[1;32m     72\u001b[0m \u001b[43m            \u001b[49m\u001b[43mprogress_bar\u001b[49m\u001b[38;5;241;43m=\u001b[39;49m\u001b[43mprogress_bar\u001b[49m\u001b[43m,\u001b[49m\n\u001b[1;32m     73\u001b[0m \u001b[43m        \u001b[49m\u001b[43m)\u001b[49m\n\u001b[1;32m     74\u001b[0m     \u001b[38;5;28;01melse\u001b[39;00m:\n\u001b[1;32m     75\u001b[0m         \u001b[38;5;28;01mif\u001b[39;00m n_jobs \u001b[38;5;241m==\u001b[39m \u001b[38;5;241m-\u001b[39m\u001b[38;5;241m1\u001b[39m:\n",
      "File \u001b[0;32m~/miniforge3/envs/stackelberg/lib/python3.10/site-packages/optuna/study/_optimize.py:159\u001b[0m, in \u001b[0;36m_optimize_sequential\u001b[0;34m(study, func, n_trials, timeout, catch, callbacks, gc_after_trial, reseed_sampler_rng, time_start, progress_bar)\u001b[0m\n\u001b[1;32m    156\u001b[0m         \u001b[38;5;28;01mbreak\u001b[39;00m\n\u001b[1;32m    158\u001b[0m \u001b[38;5;28;01mtry\u001b[39;00m:\n\u001b[0;32m--> 159\u001b[0m     frozen_trial \u001b[38;5;241m=\u001b[39m \u001b[43m_run_trial\u001b[49m\u001b[43m(\u001b[49m\u001b[43mstudy\u001b[49m\u001b[43m,\u001b[49m\u001b[43m \u001b[49m\u001b[43mfunc\u001b[49m\u001b[43m,\u001b[49m\u001b[43m \u001b[49m\u001b[43mcatch\u001b[49m\u001b[43m)\u001b[49m\n\u001b[1;32m    160\u001b[0m \u001b[38;5;28;01mfinally\u001b[39;00m:\n\u001b[1;32m    161\u001b[0m     \u001b[38;5;66;03m# The following line mitigates memory problems that can be occurred in some\u001b[39;00m\n\u001b[1;32m    162\u001b[0m     \u001b[38;5;66;03m# environments (e.g., services that use computing containers such as GitHub Actions).\u001b[39;00m\n\u001b[1;32m    163\u001b[0m     \u001b[38;5;66;03m# Please refer to the following PR for further details:\u001b[39;00m\n\u001b[1;32m    164\u001b[0m     \u001b[38;5;66;03m# https://github.com/optuna/optuna/pull/325.\u001b[39;00m\n\u001b[1;32m    165\u001b[0m     \u001b[38;5;28;01mif\u001b[39;00m gc_after_trial:\n",
      "File \u001b[0;32m~/miniforge3/envs/stackelberg/lib/python3.10/site-packages/optuna/study/_optimize.py:247\u001b[0m, in \u001b[0;36m_run_trial\u001b[0;34m(study, func, catch)\u001b[0m\n\u001b[1;32m    240\u001b[0m         \u001b[38;5;28;01massert\u001b[39;00m \u001b[38;5;28;01mFalse\u001b[39;00m, \u001b[38;5;124m\"\u001b[39m\u001b[38;5;124mShould not reach.\u001b[39m\u001b[38;5;124m\"\u001b[39m\n\u001b[1;32m    242\u001b[0m \u001b[38;5;28;01mif\u001b[39;00m (\n\u001b[1;32m    243\u001b[0m     frozen_trial\u001b[38;5;241m.\u001b[39mstate \u001b[38;5;241m==\u001b[39m TrialState\u001b[38;5;241m.\u001b[39mFAIL\n\u001b[1;32m    244\u001b[0m     \u001b[38;5;129;01mand\u001b[39;00m func_err \u001b[38;5;129;01mis\u001b[39;00m \u001b[38;5;129;01mnot\u001b[39;00m \u001b[38;5;28;01mNone\u001b[39;00m\n\u001b[1;32m    245\u001b[0m     \u001b[38;5;129;01mand\u001b[39;00m \u001b[38;5;129;01mnot\u001b[39;00m \u001b[38;5;28misinstance\u001b[39m(func_err, catch)\n\u001b[1;32m    246\u001b[0m ):\n\u001b[0;32m--> 247\u001b[0m     \u001b[38;5;28;01mraise\u001b[39;00m func_err\n\u001b[1;32m    248\u001b[0m \u001b[38;5;28;01mreturn\u001b[39;00m frozen_trial\n",
      "File \u001b[0;32m~/miniforge3/envs/stackelberg/lib/python3.10/site-packages/optuna/study/_optimize.py:196\u001b[0m, in \u001b[0;36m_run_trial\u001b[0;34m(study, func, catch)\u001b[0m\n\u001b[1;32m    194\u001b[0m \u001b[38;5;28;01mwith\u001b[39;00m get_heartbeat_thread(trial\u001b[38;5;241m.\u001b[39m_trial_id, study\u001b[38;5;241m.\u001b[39m_storage):\n\u001b[1;32m    195\u001b[0m     \u001b[38;5;28;01mtry\u001b[39;00m:\n\u001b[0;32m--> 196\u001b[0m         value_or_values \u001b[38;5;241m=\u001b[39m \u001b[43mfunc\u001b[49m\u001b[43m(\u001b[49m\u001b[43mtrial\u001b[49m\u001b[43m)\u001b[49m\n\u001b[1;32m    197\u001b[0m     \u001b[38;5;28;01mexcept\u001b[39;00m exceptions\u001b[38;5;241m.\u001b[39mTrialPruned \u001b[38;5;28;01mas\u001b[39;00m e:\n\u001b[1;32m    198\u001b[0m         \u001b[38;5;66;03m# TODO(mamu): Handle multi-objective cases.\u001b[39;00m\n\u001b[1;32m    199\u001b[0m         state \u001b[38;5;241m=\u001b[39m TrialState\u001b[38;5;241m.\u001b[39mPRUNED\n",
      "Cell \u001b[0;32mIn[69], line 10\u001b[0m, in \u001b[0;36mobjective\u001b[0;34m(trial)\u001b[0m\n\u001b[1;32m      8\u001b[0m \u001b[38;5;28;01mfor\u001b[39;00m i \u001b[38;5;129;01min\u001b[39;00m \u001b[38;5;28mrange\u001b[39m(\u001b[38;5;241m10\u001b[39m):\n\u001b[1;32m      9\u001b[0m     env \u001b[38;5;241m=\u001b[39m CountedEnvWrapper(gymnasium\u001b[38;5;241m.\u001b[39mmake(\u001b[38;5;124m\"\u001b[39m\u001b[38;5;124msimple_mdp_2\u001b[39m\u001b[38;5;124m\"\u001b[39m, max_ep_steps\u001b[38;5;241m=\u001b[39m\u001b[38;5;241m50\u001b[39m))\n\u001b[0;32m---> 10\u001b[0m     q, policy, history, evals \u001b[38;5;241m=\u001b[39m \u001b[43mdyna_q_plus\u001b[49m\u001b[43m(\u001b[49m\u001b[43menv\u001b[49m\u001b[43m,\u001b[49m\u001b[43m \u001b[49m\u001b[43mn\u001b[49m\u001b[43m,\u001b[49m\u001b[43m \u001b[49m\u001b[43mMAX_SAMPLES\u001b[49m\u001b[43m,\u001b[49m\u001b[43m \u001b[49m\u001b[43meps\u001b[49m\u001b[38;5;241;43m=\u001b[39;49m\u001b[43meps\u001b[49m\u001b[43m,\u001b[49m\u001b[43m \u001b[49m\u001b[43meps_mul\u001b[49m\u001b[38;5;241;43m=\u001b[39;49m\u001b[43meps_mul\u001b[49m\u001b[43m,\u001b[49m\u001b[43m \u001b[49m\u001b[43malpha\u001b[49m\u001b[38;5;241;43m=\u001b[39;49m\u001b[43malpha\u001b[49m\u001b[43m,\u001b[49m\u001b[43m \u001b[49m\u001b[43mgamma\u001b[49m\u001b[38;5;241;43m=\u001b[39;49m\u001b[43mgamma\u001b[49m\u001b[43m)\u001b[49m\n\u001b[1;32m     11\u001b[0m     means\u001b[38;5;241m.\u001b[39mappend(np\u001b[38;5;241m.\u001b[39marray(evals)[:,\u001b[38;5;241m1\u001b[39m]\u001b[38;5;241m.\u001b[39mmean())\n\u001b[1;32m     12\u001b[0m \u001b[38;5;28;01mreturn\u001b[39;00m np\u001b[38;5;241m.\u001b[39mmean(means)\n",
      "Cell \u001b[0;32mIn[61], line 124\u001b[0m, in \u001b[0;36mdyna_q_plus\u001b[0;34m(env, n, max_samples, eps, eps_mul, alpha, gamma, kappa, action_only)\u001b[0m\n\u001b[1;32m    121\u001b[0m tau \u001b[38;5;241m+\u001b[39m\u001b[38;5;241m=\u001b[39m \u001b[38;5;241m1\u001b[39m\n\u001b[1;32m    123\u001b[0m \u001b[38;5;28;01mif\u001b[39;00m env\u001b[38;5;241m.\u001b[39msamples \u001b[38;5;241m>\u001b[39m\u001b[38;5;241m=\u001b[39m next_eval:\n\u001b[0;32m--> 124\u001b[0m     r_mean,r_std \u001b[38;5;241m=\u001b[39m \u001b[43mevaluate_policy\u001b[49m\u001b[43m(\u001b[49m\u001b[43mPolicy\u001b[49m\u001b[43m(\u001b[49m\u001b[43mpolicy\u001b[49m\u001b[43m)\u001b[49m\u001b[43m,\u001b[49m\u001b[43m \u001b[49m\u001b[43menv\u001b[49m\u001b[38;5;241;43m.\u001b[39;49m\u001b[43menv\u001b[49m\u001b[43m,\u001b[49m\u001b[43m \u001b[49m\u001b[43mn_eval_episodes\u001b[49m\u001b[38;5;241;43m=\u001b[39;49m\u001b[43mN_EVAL_EPISODES\u001b[49m\u001b[43m)\u001b[49m\n\u001b[1;32m    125\u001b[0m     evals\u001b[38;5;241m.\u001b[39mappend((env\u001b[38;5;241m.\u001b[39msamples, r_mean))\n\u001b[1;32m    126\u001b[0m     next_eval \u001b[38;5;241m=\u001b[39m env\u001b[38;5;241m.\u001b[39msamples \u001b[38;5;241m+\u001b[39m SAMPLE_EVAL_RATE\n",
      "File \u001b[0;32m~/miniforge3/envs/stackelberg/lib/python3.10/site-packages/stable_baselines3/common/evaluation.py:88\u001b[0m, in \u001b[0;36mevaluate_policy\u001b[0;34m(model, env, n_eval_episodes, deterministic, render, callback, reward_threshold, return_episode_rewards, warn)\u001b[0m\n\u001b[1;32m     86\u001b[0m episode_starts \u001b[38;5;241m=\u001b[39m np\u001b[38;5;241m.\u001b[39mones((env\u001b[38;5;241m.\u001b[39mnum_envs,), dtype\u001b[38;5;241m=\u001b[39m\u001b[38;5;28mbool\u001b[39m)\n\u001b[1;32m     87\u001b[0m \u001b[38;5;28;01mwhile\u001b[39;00m (episode_counts \u001b[38;5;241m<\u001b[39m episode_count_targets)\u001b[38;5;241m.\u001b[39many():\n\u001b[0;32m---> 88\u001b[0m     actions, states \u001b[38;5;241m=\u001b[39m \u001b[43mmodel\u001b[49m\u001b[38;5;241;43m.\u001b[39;49m\u001b[43mpredict\u001b[49m\u001b[43m(\u001b[49m\n\u001b[1;32m     89\u001b[0m \u001b[43m        \u001b[49m\u001b[43mobservations\u001b[49m\u001b[43m,\u001b[49m\u001b[43m  \u001b[49m\u001b[38;5;66;43;03m# type: ignore[arg-type]\u001b[39;49;00m\n\u001b[1;32m     90\u001b[0m \u001b[43m        \u001b[49m\u001b[43mstate\u001b[49m\u001b[38;5;241;43m=\u001b[39;49m\u001b[43mstates\u001b[49m\u001b[43m,\u001b[49m\n\u001b[1;32m     91\u001b[0m \u001b[43m        \u001b[49m\u001b[43mepisode_start\u001b[49m\u001b[38;5;241;43m=\u001b[39;49m\u001b[43mepisode_starts\u001b[49m\u001b[43m,\u001b[49m\n\u001b[1;32m     92\u001b[0m \u001b[43m        \u001b[49m\u001b[43mdeterministic\u001b[49m\u001b[38;5;241;43m=\u001b[39;49m\u001b[43mdeterministic\u001b[49m\u001b[43m,\u001b[49m\n\u001b[1;32m     93\u001b[0m \u001b[43m    \u001b[49m\u001b[43m)\u001b[49m\n\u001b[1;32m     94\u001b[0m     new_observations, rewards, dones, infos \u001b[38;5;241m=\u001b[39m env\u001b[38;5;241m.\u001b[39mstep(actions)\n\u001b[1;32m     95\u001b[0m     current_rewards \u001b[38;5;241m+\u001b[39m\u001b[38;5;241m=\u001b[39m rewards\n",
      "Cell \u001b[0;32mIn[54], line 10\u001b[0m, in \u001b[0;36mPolicy.predict\u001b[0;34m(self, observations, **kwargs)\u001b[0m\n\u001b[1;32m      7\u001b[0m state \u001b[38;5;241m=\u001b[39m observations\u001b[38;5;241m.\u001b[39mitem()\n\u001b[1;32m      9\u001b[0m action_probs \u001b[38;5;241m=\u001b[39m \u001b[38;5;28mself\u001b[39m\u001b[38;5;241m.\u001b[39maction_probabilities[state]\n\u001b[0;32m---> 10\u001b[0m \u001b[38;5;28;01mreturn\u001b[39;00m torch\u001b[38;5;241m.\u001b[39mmultinomial(\u001b[43mtorch\u001b[49m\u001b[38;5;241;43m.\u001b[39;49m\u001b[43mtensor\u001b[49m\u001b[43m(\u001b[49m\u001b[43maction_probs\u001b[49m\u001b[43m)\u001b[49m, num_samples\u001b[38;5;241m=\u001b[39m\u001b[38;5;241m1\u001b[39m)\u001b[38;5;241m.\u001b[39mnumpy(), observations\n",
      "\u001b[0;31mKeyboardInterrupt\u001b[0m: "
     ]
    }
   ],
   "source": [
    "def objective(trial):\n",
    "    eps = trial.suggest_float('eps', 1e-6, 1)\n",
    "    eps_mul = trial.suggest_float('eps_mul', 0.1, 1)\n",
    "    alpha = trial.suggest_float('alpha', 0.1, 1)\n",
    "    gamma = trial.suggest_float('gamma', 0.1, 1)\n",
    "    \n",
    "    means = []\n",
    "    for i in range(10):\n",
    "        env = CountedEnvWrapper(gymnasium.make(\"simple_mdp_2\", max_ep_steps=50))\n",
    "        q, policy, history, evals = dyna_q_plus(env, n, MAX_SAMPLES, eps=eps, eps_mul=eps_mul, alpha=alpha, gamma=gamma)\n",
    "        means.append(np.array(evals)[:,1].mean())\n",
    "    return np.mean(means)\n",
    "\n",
    "# Create a study object and optimize the objective function\n",
    "study = optuna.create_study(direction='maximize')\n",
    "study.optimize(objective, n_trials=100)\n",
    "\n",
    "# Print the best set of hyperparameters\n",
    "print('Best hyperparameters: ', study.best_params)\n",
    "# Print the corresponding performance\n",
    "print('Best performance: ', study.best_value)"
   ]
  },
  {
   "cell_type": "code",
   "execution_count": null,
   "metadata": {},
   "outputs": [],
   "source": []
  }
 ],
 "metadata": {
  "kernelspec": {
   "display_name": "stackelberg",
   "language": "python",
   "name": "python3"
  },
  "language_info": {
   "codemirror_mode": {
    "name": "ipython",
    "version": 3
   },
   "file_extension": ".py",
   "mimetype": "text/x-python",
   "name": "python",
   "nbconvert_exporter": "python",
   "pygments_lexer": "ipython3",
   "version": "3.1.undefined"
  }
 },
 "nbformat": 4,
 "nbformat_minor": 2
}
